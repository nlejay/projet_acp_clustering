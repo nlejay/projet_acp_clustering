{
 "cells": [
  {
   "cell_type": "markdown",
   "id": "2c21f69a-c99a-4bc4-9b46-e03c69ed6901",
   "metadata": {
    "tags": []
   },
   "source": [
    "# Projet réduction de dimensionnalité et techniques de clustering - Projet 3\n",
    "## Auteur : Nicolas Lejay\n",
    "\n",
    "## Septembre 2023\n",
    "\n",
    "***\n",
    "## Chargement et préparation des données"
   ]
  },
  {
   "cell_type": "code",
   "execution_count": 3,
   "id": "880450f3-0e2c-4bfb-95c1-1aed8bb94d3d",
   "metadata": {},
   "outputs": [
    {
     "data": {
      "text/html": [
       "<div>\n",
       "<style scoped>\n",
       "    .dataframe tbody tr th:only-of-type {\n",
       "        vertical-align: middle;\n",
       "    }\n",
       "\n",
       "    .dataframe tbody tr th {\n",
       "        vertical-align: top;\n",
       "    }\n",
       "\n",
       "    .dataframe thead th {\n",
       "        text-align: right;\n",
       "    }\n",
       "</style>\n",
       "<table border=\"1\" class=\"dataframe\">\n",
       "  <thead>\n",
       "    <tr style=\"text-align: right;\">\n",
       "      <th></th>\n",
       "      <th>userid</th>\n",
       "      <th>date.crea</th>\n",
       "      <th>score</th>\n",
       "      <th>n.matches</th>\n",
       "      <th>n.updates.photo</th>\n",
       "      <th>n.photos</th>\n",
       "      <th>last.connex</th>\n",
       "      <th>last.up.photo</th>\n",
       "      <th>last.pr.update</th>\n",
       "      <th>gender</th>\n",
       "      <th>sent.ana</th>\n",
       "      <th>length.prof</th>\n",
       "      <th>voyage</th>\n",
       "      <th>laugh</th>\n",
       "      <th>photo.keke</th>\n",
       "      <th>photo.beach</th>\n",
       "    </tr>\n",
       "  </thead>\n",
       "  <tbody>\n",
       "    <tr>\n",
       "      <th>0</th>\n",
       "      <td>1</td>\n",
       "      <td>2011-09-17</td>\n",
       "      <td>1.495834</td>\n",
       "      <td>11</td>\n",
       "      <td>5</td>\n",
       "      <td>6</td>\n",
       "      <td>2011-10-07</td>\n",
       "      <td>2011-10-02</td>\n",
       "      <td>NaN</td>\n",
       "      <td>1</td>\n",
       "      <td>6.490446</td>\n",
       "      <td>0.000000</td>\n",
       "      <td>0</td>\n",
       "      <td>0</td>\n",
       "      <td>0</td>\n",
       "      <td>0</td>\n",
       "    </tr>\n",
       "    <tr>\n",
       "      <th>1</th>\n",
       "      <td>2</td>\n",
       "      <td>2017-01-17</td>\n",
       "      <td>8.946863</td>\n",
       "      <td>56</td>\n",
       "      <td>2</td>\n",
       "      <td>6</td>\n",
       "      <td>2017-01-31</td>\n",
       "      <td>2017-02-03</td>\n",
       "      <td>NaN</td>\n",
       "      <td>1</td>\n",
       "      <td>4.589125</td>\n",
       "      <td>20.722862</td>\n",
       "      <td>0</td>\n",
       "      <td>0</td>\n",
       "      <td>0</td>\n",
       "      <td>1</td>\n",
       "    </tr>\n",
       "    <tr>\n",
       "      <th>2</th>\n",
       "      <td>3</td>\n",
       "      <td>2019-05-14</td>\n",
       "      <td>2.496199</td>\n",
       "      <td>13</td>\n",
       "      <td>3</td>\n",
       "      <td>4</td>\n",
       "      <td>2019-06-17</td>\n",
       "      <td>2019-06-19</td>\n",
       "      <td>NaN</td>\n",
       "      <td>1</td>\n",
       "      <td>6.473182</td>\n",
       "      <td>31.399277</td>\n",
       "      <td>0</td>\n",
       "      <td>0</td>\n",
       "      <td>0</td>\n",
       "      <td>1</td>\n",
       "    </tr>\n",
       "    <tr>\n",
       "      <th>3</th>\n",
       "      <td>4</td>\n",
       "      <td>2015-11-27</td>\n",
       "      <td>2.823579</td>\n",
       "      <td>32</td>\n",
       "      <td>5</td>\n",
       "      <td>2</td>\n",
       "      <td>2016-01-15</td>\n",
       "      <td>2015-12-09</td>\n",
       "      <td>NaN</td>\n",
       "      <td>0</td>\n",
       "      <td>5.368982</td>\n",
       "      <td>0.000000</td>\n",
       "      <td>0</td>\n",
       "      <td>0</td>\n",
       "      <td>0</td>\n",
       "      <td>1</td>\n",
       "    </tr>\n",
       "    <tr>\n",
       "      <th>4</th>\n",
       "      <td>5</td>\n",
       "      <td>2014-11-28</td>\n",
       "      <td>2.117433</td>\n",
       "      <td>21</td>\n",
       "      <td>1</td>\n",
       "      <td>4</td>\n",
       "      <td>2015-01-15</td>\n",
       "      <td>2015-01-02</td>\n",
       "      <td>NaN</td>\n",
       "      <td>0</td>\n",
       "      <td>5.573949</td>\n",
       "      <td>38.510225</td>\n",
       "      <td>0</td>\n",
       "      <td>1</td>\n",
       "      <td>0</td>\n",
       "      <td>0</td>\n",
       "    </tr>\n",
       "  </tbody>\n",
       "</table>\n",
       "</div>"
      ],
      "text/plain": [
       "   userid   date.crea     score  n.matches  n.updates.photo  n.photos  \\\n",
       "0       1  2011-09-17  1.495834         11                5         6   \n",
       "1       2  2017-01-17  8.946863         56                2         6   \n",
       "2       3  2019-05-14  2.496199         13                3         4   \n",
       "3       4  2015-11-27  2.823579         32                5         2   \n",
       "4       5  2014-11-28  2.117433         21                1         4   \n",
       "\n",
       "  last.connex last.up.photo  last.pr.update  gender  sent.ana  length.prof  \\\n",
       "0  2011-10-07    2011-10-02             NaN       1  6.490446     0.000000   \n",
       "1  2017-01-31    2017-02-03             NaN       1  4.589125    20.722862   \n",
       "2  2019-06-17    2019-06-19             NaN       1  6.473182    31.399277   \n",
       "3  2016-01-15    2015-12-09             NaN       0  5.368982     0.000000   \n",
       "4  2015-01-15    2015-01-02             NaN       0  5.573949    38.510225   \n",
       "\n",
       "   voyage  laugh  photo.keke  photo.beach  \n",
       "0       0      0           0            0  \n",
       "1       0      0           0            1  \n",
       "2       0      0           0            1  \n",
       "3       0      0           0            1  \n",
       "4       0      1           0            0  "
      ]
     },
     "execution_count": 3,
     "metadata": {},
     "output_type": "execute_result"
    }
   ],
   "source": [
    "import pandas as pd\n",
    "import numpy as np\n",
    "df_users= pd.read_csv('src/users.db.csv', sep=',')\n",
    "df_users.head()"
   ]
  },
  {
   "cell_type": "code",
   "execution_count": 5,
   "id": "32af69bf-022e-45da-80a4-f5a6d54a473a",
   "metadata": {
    "tags": []
   },
   "outputs": [
    {
     "name": "stdout",
     "output_type": "stream",
     "text": [
      "<class 'pandas.core.frame.DataFrame'>\n",
      "RangeIndex: 3000 entries, 0 to 2999\n",
      "Data columns (total 16 columns):\n",
      " #   Column           Non-Null Count  Dtype  \n",
      "---  ------           --------------  -----  \n",
      " 0   userid           3000 non-null   int64  \n",
      " 1   date.crea        3000 non-null   object \n",
      " 2   score            3000 non-null   float64\n",
      " 3   n.matches        3000 non-null   int64  \n",
      " 4   n.updates.photo  3000 non-null   int64  \n",
      " 5   n.photos         3000 non-null   int64  \n",
      " 6   last.connex      3000 non-null   object \n",
      " 7   last.up.photo    3000 non-null   object \n",
      " 8   last.pr.update   0 non-null      float64\n",
      " 9   gender           3000 non-null   int64  \n",
      " 10  sent.ana         3000 non-null   float64\n",
      " 11  length.prof      3000 non-null   float64\n",
      " 12  voyage           3000 non-null   int64  \n",
      " 13  laugh            3000 non-null   int64  \n",
      " 14  photo.keke       3000 non-null   int64  \n",
      " 15  photo.beach      3000 non-null   int64  \n",
      "dtypes: float64(4), int64(9), object(3)\n",
      "memory usage: 375.1+ KB\n"
     ]
    }
   ],
   "source": [
    "df_users.info()"
   ]
  },
  {
   "cell_type": "code",
   "execution_count": 6,
   "id": "c73f9bd0-5ca0-467c-9991-cecdfca7a495",
   "metadata": {
    "tags": []
   },
   "outputs": [
    {
     "data": {
      "text/plain": [
       "array([nan])"
      ]
     },
     "execution_count": 6,
     "metadata": {},
     "output_type": "execute_result"
    }
   ],
   "source": [
    "df_users['last.pr.update'].unique()"
   ]
  },
  {
   "cell_type": "markdown",
   "id": "e07af1b6-0580-4751-8eac-c8159c3dad6e",
   "metadata": {},
   "source": [
    "La variable last.pr.update est vide. On peut la supprimer."
   ]
  },
  {
   "cell_type": "code",
   "execution_count": 7,
   "id": "5c97833f-5ba1-4475-935b-edb97b6f31c1",
   "metadata": {
    "tags": []
   },
   "outputs": [
    {
     "data": {
      "text/html": [
       "<div>\n",
       "<style scoped>\n",
       "    .dataframe tbody tr th:only-of-type {\n",
       "        vertical-align: middle;\n",
       "    }\n",
       "\n",
       "    .dataframe tbody tr th {\n",
       "        vertical-align: top;\n",
       "    }\n",
       "\n",
       "    .dataframe thead th {\n",
       "        text-align: right;\n",
       "    }\n",
       "</style>\n",
       "<table border=\"1\" class=\"dataframe\">\n",
       "  <thead>\n",
       "    <tr style=\"text-align: right;\">\n",
       "      <th></th>\n",
       "      <th>userid</th>\n",
       "      <th>date.crea</th>\n",
       "      <th>score</th>\n",
       "      <th>n.matches</th>\n",
       "      <th>n.updates.photo</th>\n",
       "      <th>n.photos</th>\n",
       "      <th>last.connex</th>\n",
       "      <th>last.up.photo</th>\n",
       "      <th>gender</th>\n",
       "      <th>sent.ana</th>\n",
       "      <th>length.prof</th>\n",
       "      <th>voyage</th>\n",
       "      <th>laugh</th>\n",
       "      <th>photo.keke</th>\n",
       "      <th>photo.beach</th>\n",
       "    </tr>\n",
       "  </thead>\n",
       "  <tbody>\n",
       "    <tr>\n",
       "      <th>0</th>\n",
       "      <td>1</td>\n",
       "      <td>2011-09-17</td>\n",
       "      <td>1.495834</td>\n",
       "      <td>11</td>\n",
       "      <td>5</td>\n",
       "      <td>6</td>\n",
       "      <td>2011-10-07</td>\n",
       "      <td>2011-10-02</td>\n",
       "      <td>1</td>\n",
       "      <td>6.490446</td>\n",
       "      <td>0.000000</td>\n",
       "      <td>0</td>\n",
       "      <td>0</td>\n",
       "      <td>0</td>\n",
       "      <td>0</td>\n",
       "    </tr>\n",
       "    <tr>\n",
       "      <th>1</th>\n",
       "      <td>2</td>\n",
       "      <td>2017-01-17</td>\n",
       "      <td>8.946863</td>\n",
       "      <td>56</td>\n",
       "      <td>2</td>\n",
       "      <td>6</td>\n",
       "      <td>2017-01-31</td>\n",
       "      <td>2017-02-03</td>\n",
       "      <td>1</td>\n",
       "      <td>4.589125</td>\n",
       "      <td>20.722862</td>\n",
       "      <td>0</td>\n",
       "      <td>0</td>\n",
       "      <td>0</td>\n",
       "      <td>1</td>\n",
       "    </tr>\n",
       "    <tr>\n",
       "      <th>2</th>\n",
       "      <td>3</td>\n",
       "      <td>2019-05-14</td>\n",
       "      <td>2.496199</td>\n",
       "      <td>13</td>\n",
       "      <td>3</td>\n",
       "      <td>4</td>\n",
       "      <td>2019-06-17</td>\n",
       "      <td>2019-06-19</td>\n",
       "      <td>1</td>\n",
       "      <td>6.473182</td>\n",
       "      <td>31.399277</td>\n",
       "      <td>0</td>\n",
       "      <td>0</td>\n",
       "      <td>0</td>\n",
       "      <td>1</td>\n",
       "    </tr>\n",
       "    <tr>\n",
       "      <th>3</th>\n",
       "      <td>4</td>\n",
       "      <td>2015-11-27</td>\n",
       "      <td>2.823579</td>\n",
       "      <td>32</td>\n",
       "      <td>5</td>\n",
       "      <td>2</td>\n",
       "      <td>2016-01-15</td>\n",
       "      <td>2015-12-09</td>\n",
       "      <td>0</td>\n",
       "      <td>5.368982</td>\n",
       "      <td>0.000000</td>\n",
       "      <td>0</td>\n",
       "      <td>0</td>\n",
       "      <td>0</td>\n",
       "      <td>1</td>\n",
       "    </tr>\n",
       "    <tr>\n",
       "      <th>4</th>\n",
       "      <td>5</td>\n",
       "      <td>2014-11-28</td>\n",
       "      <td>2.117433</td>\n",
       "      <td>21</td>\n",
       "      <td>1</td>\n",
       "      <td>4</td>\n",
       "      <td>2015-01-15</td>\n",
       "      <td>2015-01-02</td>\n",
       "      <td>0</td>\n",
       "      <td>5.573949</td>\n",
       "      <td>38.510225</td>\n",
       "      <td>0</td>\n",
       "      <td>1</td>\n",
       "      <td>0</td>\n",
       "      <td>0</td>\n",
       "    </tr>\n",
       "  </tbody>\n",
       "</table>\n",
       "</div>"
      ],
      "text/plain": [
       "   userid   date.crea     score  n.matches  n.updates.photo  n.photos  \\\n",
       "0       1  2011-09-17  1.495834         11                5         6   \n",
       "1       2  2017-01-17  8.946863         56                2         6   \n",
       "2       3  2019-05-14  2.496199         13                3         4   \n",
       "3       4  2015-11-27  2.823579         32                5         2   \n",
       "4       5  2014-11-28  2.117433         21                1         4   \n",
       "\n",
       "  last.connex last.up.photo  gender  sent.ana  length.prof  voyage  laugh  \\\n",
       "0  2011-10-07    2011-10-02       1  6.490446     0.000000       0      0   \n",
       "1  2017-01-31    2017-02-03       1  4.589125    20.722862       0      0   \n",
       "2  2019-06-17    2019-06-19       1  6.473182    31.399277       0      0   \n",
       "3  2016-01-15    2015-12-09       0  5.368982     0.000000       0      0   \n",
       "4  2015-01-15    2015-01-02       0  5.573949    38.510225       0      1   \n",
       "\n",
       "   photo.keke  photo.beach  \n",
       "0           0            0  \n",
       "1           0            1  \n",
       "2           0            1  \n",
       "3           0            1  \n",
       "4           0            0  "
      ]
     },
     "execution_count": 7,
     "metadata": {},
     "output_type": "execute_result"
    }
   ],
   "source": [
    "df_users = df_users.drop(columns=['last.pr.update'])\n",
    "df_users.head()"
   ]
  },
  {
   "cell_type": "markdown",
   "id": "2124713b-896e-40e4-9f21-09811a27e869",
   "metadata": {},
   "source": [
    "### Passage des variables catégorielles au type category"
   ]
  },
  {
   "cell_type": "code",
   "execution_count": 15,
   "id": "efd7bb4a-2b49-4356-999c-04070e1edaa6",
   "metadata": {
    "tags": []
   },
   "outputs": [
    {
     "name": "stdout",
     "output_type": "stream",
     "text": [
      "<class 'pandas.core.frame.DataFrame'>\n",
      "RangeIndex: 3000 entries, 0 to 2999\n",
      "Data columns (total 15 columns):\n",
      " #   Column           Non-Null Count  Dtype         \n",
      "---  ------           --------------  -----         \n",
      " 0   userid           3000 non-null   int64         \n",
      " 1   date.crea        3000 non-null   datetime64[ns]\n",
      " 2   score            3000 non-null   float64       \n",
      " 3   n.matches        3000 non-null   int64         \n",
      " 4   n.updates.photo  3000 non-null   int64         \n",
      " 5   n.photos         3000 non-null   int64         \n",
      " 6   last.connex      3000 non-null   datetime64[ns]\n",
      " 7   last.up.photo    3000 non-null   datetime64[ns]\n",
      " 8   gender           3000 non-null   category      \n",
      " 9   sent.ana         3000 non-null   float64       \n",
      " 10  length.prof      3000 non-null   float64       \n",
      " 11  voyage           3000 non-null   category      \n",
      " 12  laugh            3000 non-null   category      \n",
      " 13  photo.keke       3000 non-null   category      \n",
      " 14  photo.beach      3000 non-null   category      \n",
      "dtypes: category(5), datetime64[ns](3), float64(3), int64(4)\n",
      "memory usage: 249.8 KB\n"
     ]
    }
   ],
   "source": [
    "for var in ['gender', 'voyage', 'laugh', 'photo.keke', 'photo.beach']:\n",
    "    df_users[var] = df_users[var].astype('category')\n",
    "df_users.info()"
   ]
  },
  {
   "cell_type": "markdown",
   "id": "d2802f43-24b1-4ac5-a463-74fa39816fb2",
   "metadata": {},
   "source": [
    "***\n",
    "## 1. Expliquez dans quelles circonstances l’on mobilise une analyse des correspondances, ou une analyse des correspondances multiples"
   ]
  },
  {
   "cell_type": "markdown",
   "id": "dc800a24-c2cd-4c2b-beb3-bef0c66f285d",
   "metadata": {},
   "source": [
    "Une ACP se pratique lorsque le jeu de données ne contient que des variables quantitatives. Lorsqu'un jeu contient des variables uniquement qualitatives, on met en œuvre une ACM.\n",
    "\n",
    "Dans une ACM comme dans une ACP, il est nécessaire de calculer des distances. Il n'est pas possible de le faire sur des variables qualitatives. Il est donc nécessaire de les recoder en créant une variable par modalité. La valeur prise par chaque individu est alors 1 ou 0 s'il possède cette modalité ou non.\n",
    "\n",
    "Exemple:\n",
    "\n",
    "Jeu initial\n",
    "\n",
    "| individu | genre |\n",
    "|----------|-------|\n",
    "| indiv 1  |   H   |\n",
    "| indiv 2  |   F   |\n",
    "\n",
    "Recodage\n",
    "\n",
    "| individu | Homme | Femme |\n",
    "|----------|-------|-------|\n",
    "| indiv 1  |   1   |   0   |\n",
    "| indiv 2  |   0   |   1   |\n",
    "\n",
    "La distance utilisée n'est pas la distance euclidienne mais la distance du $\\chi^{2}$. Le principe reste alors le même que pour l'ACP : déterminer de nouvelles variables (composantes principales) orthogonales entre-elles et telles que la première capture le maximum de variance du jeu de données, la deuxième capture le maximum de la variance restante, etc."
   ]
  },
  {
   "cell_type": "markdown",
   "id": "66128c8b-36d1-48a8-9a79-44d869d253fe",
   "metadata": {},
   "source": [
    "***\n",
    "## 2. Représentation des variables qualitatives du jeu de données.\n",
    "Nous allons ici nous intéresser uniquement aux variables qualitatives du jeu de données. Il serait possible d'inclure également les variables quantitatives en les discrétisant."
   ]
  },
  {
   "cell_type": "code",
   "execution_count": 16,
   "id": "478b657b-1c35-4d08-b22d-4e3a157c7920",
   "metadata": {
    "tags": []
   },
   "outputs": [],
   "source": [
    "df_users_qual = df_users[['gender', 'voyage', 'laugh', 'photo.keke', 'photo.beach']]"
   ]
  },
  {
   "cell_type": "markdown",
   "id": "e292aa1c-c311-4edc-8521-c3eb72516d81",
   "metadata": {},
   "source": [
    "Recodage du jeu de données"
   ]
  },
  {
   "cell_type": "code",
   "execution_count": 17,
   "id": "26b983cf-7170-41de-a55f-316a6dc0a792",
   "metadata": {
    "tags": []
   },
   "outputs": [
    {
     "data": {
      "text/html": [
       "<div>\n",
       "<style scoped>\n",
       "    .dataframe tbody tr th:only-of-type {\n",
       "        vertical-align: middle;\n",
       "    }\n",
       "\n",
       "    .dataframe tbody tr th {\n",
       "        vertical-align: top;\n",
       "    }\n",
       "\n",
       "    .dataframe thead th {\n",
       "        text-align: right;\n",
       "    }\n",
       "</style>\n",
       "<table border=\"1\" class=\"dataframe\">\n",
       "  <thead>\n",
       "    <tr style=\"text-align: right;\">\n",
       "      <th></th>\n",
       "      <th>gender_0</th>\n",
       "      <th>gender_1</th>\n",
       "      <th>gender_2</th>\n",
       "      <th>voyage_0</th>\n",
       "      <th>voyage_1</th>\n",
       "      <th>laugh_0</th>\n",
       "      <th>laugh_1</th>\n",
       "      <th>photo.keke_0</th>\n",
       "      <th>photo.keke_1</th>\n",
       "      <th>photo.beach_0</th>\n",
       "      <th>photo.beach_1</th>\n",
       "    </tr>\n",
       "  </thead>\n",
       "  <tbody>\n",
       "    <tr>\n",
       "      <th>0</th>\n",
       "      <td>0</td>\n",
       "      <td>1</td>\n",
       "      <td>0</td>\n",
       "      <td>1</td>\n",
       "      <td>0</td>\n",
       "      <td>1</td>\n",
       "      <td>0</td>\n",
       "      <td>1</td>\n",
       "      <td>0</td>\n",
       "      <td>1</td>\n",
       "      <td>0</td>\n",
       "    </tr>\n",
       "    <tr>\n",
       "      <th>1</th>\n",
       "      <td>0</td>\n",
       "      <td>1</td>\n",
       "      <td>0</td>\n",
       "      <td>1</td>\n",
       "      <td>0</td>\n",
       "      <td>1</td>\n",
       "      <td>0</td>\n",
       "      <td>1</td>\n",
       "      <td>0</td>\n",
       "      <td>0</td>\n",
       "      <td>1</td>\n",
       "    </tr>\n",
       "    <tr>\n",
       "      <th>2</th>\n",
       "      <td>0</td>\n",
       "      <td>1</td>\n",
       "      <td>0</td>\n",
       "      <td>1</td>\n",
       "      <td>0</td>\n",
       "      <td>1</td>\n",
       "      <td>0</td>\n",
       "      <td>1</td>\n",
       "      <td>0</td>\n",
       "      <td>0</td>\n",
       "      <td>1</td>\n",
       "    </tr>\n",
       "    <tr>\n",
       "      <th>3</th>\n",
       "      <td>1</td>\n",
       "      <td>0</td>\n",
       "      <td>0</td>\n",
       "      <td>1</td>\n",
       "      <td>0</td>\n",
       "      <td>1</td>\n",
       "      <td>0</td>\n",
       "      <td>1</td>\n",
       "      <td>0</td>\n",
       "      <td>0</td>\n",
       "      <td>1</td>\n",
       "    </tr>\n",
       "    <tr>\n",
       "      <th>4</th>\n",
       "      <td>1</td>\n",
       "      <td>0</td>\n",
       "      <td>0</td>\n",
       "      <td>1</td>\n",
       "      <td>0</td>\n",
       "      <td>0</td>\n",
       "      <td>1</td>\n",
       "      <td>1</td>\n",
       "      <td>0</td>\n",
       "      <td>1</td>\n",
       "      <td>0</td>\n",
       "    </tr>\n",
       "  </tbody>\n",
       "</table>\n",
       "</div>"
      ],
      "text/plain": [
       "   gender_0  gender_1  gender_2  voyage_0  voyage_1  laugh_0  laugh_1  \\\n",
       "0         0         1         0         1         0        1        0   \n",
       "1         0         1         0         1         0        1        0   \n",
       "2         0         1         0         1         0        1        0   \n",
       "3         1         0         0         1         0        1        0   \n",
       "4         1         0         0         1         0        0        1   \n",
       "\n",
       "   photo.keke_0  photo.keke_1  photo.beach_0  photo.beach_1  \n",
       "0             1             0              1              0  \n",
       "1             1             0              0              1  \n",
       "2             1             0              0              1  \n",
       "3             1             0              0              1  \n",
       "4             1             0              1              0  "
      ]
     },
     "execution_count": 17,
     "metadata": {},
     "output_type": "execute_result"
    }
   ],
   "source": [
    "users_rec = pd.get_dummies(df_users_qual)\n",
    "users_rec.head()"
   ]
  },
  {
   "cell_type": "markdown",
   "id": "5ace23d8-efaa-444b-ad3b-f4fff1f4f74f",
   "metadata": {},
   "source": [
    "Exécution d'une ACM à l'aide du package prince. La méthode MCA du package peut faire elle-même la transformation du jeu de données de la cellule précédente. L'ayant déjà faite, nous incluerons le paramètre one_hot=False lors de l'utilisation de la méthode MCA.\n",
    "\n",
    "J'ai vu que le nombre de composantes à calculer est égal à la différence du nombre de modalités et du nombre de variables. Mais je ne sais pas pourquoi."
   ]
  },
  {
   "cell_type": "code",
   "execution_count": 101,
   "id": "5e8821ea-ccb5-47fb-b583-dcd936ef83e1",
   "metadata": {
    "tags": []
   },
   "outputs": [],
   "source": [
    "import prince\n",
    "\n",
    "mca = prince.MCA(n_components=6, one_hot=False).fit(users_rec)    #nb max de facteurs = nb modalités - nb variables = 11 - 5 = 6"
   ]
  },
  {
   "cell_type": "markdown",
   "id": "57888158-c395-46f1-97ef-ca1307421d3d",
   "metadata": {},
   "source": [
    "Regardons les valeurs propres et le pourcentage de variance expliquée par chaque composante."
   ]
  },
  {
   "cell_type": "code",
   "execution_count": 133,
   "id": "111b671d-5f12-4c8b-9f6a-cceb9861247b",
   "metadata": {
    "tags": []
   },
   "outputs": [
    {
     "data": {
      "text/html": [
       "<div>\n",
       "<style scoped>\n",
       "    .dataframe tbody tr th:only-of-type {\n",
       "        vertical-align: middle;\n",
       "    }\n",
       "\n",
       "    .dataframe tbody tr th {\n",
       "        vertical-align: top;\n",
       "    }\n",
       "\n",
       "    .dataframe thead th {\n",
       "        text-align: right;\n",
       "    }\n",
       "</style>\n",
       "<table border=\"1\" class=\"dataframe\">\n",
       "  <thead>\n",
       "    <tr style=\"text-align: right;\">\n",
       "      <th></th>\n",
       "      <th>component</th>\n",
       "      <th>eigenvalue</th>\n",
       "      <th>% of variance</th>\n",
       "      <th>% of variance (cumulative)</th>\n",
       "    </tr>\n",
       "  </thead>\n",
       "  <tbody>\n",
       "    <tr>\n",
       "      <th>0</th>\n",
       "      <td>1</td>\n",
       "      <td>0.256</td>\n",
       "      <td>21.31%</td>\n",
       "      <td>21.31%</td>\n",
       "    </tr>\n",
       "    <tr>\n",
       "      <th>1</th>\n",
       "      <td>2</td>\n",
       "      <td>0.204</td>\n",
       "      <td>17.00%</td>\n",
       "      <td>38.31%</td>\n",
       "    </tr>\n",
       "    <tr>\n",
       "      <th>2</th>\n",
       "      <td>3</td>\n",
       "      <td>0.199</td>\n",
       "      <td>16.57%</td>\n",
       "      <td>54.88%</td>\n",
       "    </tr>\n",
       "    <tr>\n",
       "      <th>3</th>\n",
       "      <td>4</td>\n",
       "      <td>0.197</td>\n",
       "      <td>16.40%</td>\n",
       "      <td>71.28%</td>\n",
       "    </tr>\n",
       "    <tr>\n",
       "      <th>4</th>\n",
       "      <td>5</td>\n",
       "      <td>0.188</td>\n",
       "      <td>15.67%</td>\n",
       "      <td>86.95%</td>\n",
       "    </tr>\n",
       "    <tr>\n",
       "      <th>5</th>\n",
       "      <td>6</td>\n",
       "      <td>0.157</td>\n",
       "      <td>13.05%</td>\n",
       "      <td>100.00%</td>\n",
       "    </tr>\n",
       "  </tbody>\n",
       "</table>\n",
       "</div>"
      ],
      "text/plain": [
       "   component eigenvalue % of variance % of variance (cumulative)\n",
       "0          1      0.256        21.31%                     21.31%\n",
       "1          2      0.204        17.00%                     38.31%\n",
       "2          3      0.199        16.57%                     54.88%\n",
       "3          4      0.197        16.40%                     71.28%\n",
       "4          5      0.188        15.67%                     86.95%\n",
       "5          6      0.157        13.05%                    100.00%"
      ]
     },
     "execution_count": 133,
     "metadata": {},
     "output_type": "execute_result"
    }
   ],
   "source": [
    "table_val_prop = mca.eigenvalues_summary\n",
    "table_val_prop = table_val_prop.reset_index()\n",
    "table_val_prop['component'] = table_val_prop['component']+1\n",
    "table_val_prop"
   ]
  },
  {
   "cell_type": "code",
   "execution_count": 134,
   "id": "7ead9157-8239-4dae-855e-0a655d60a798",
   "metadata": {
    "tags": []
   },
   "outputs": [
    {
     "data": {
      "image/png": "[encoded data removed]",
      "text/plain": [
       "<Figure size 800x500 with 1 Axes>"
      ]
     },
     "metadata": {},
     "output_type": "display_data"
    }
   ],
   "source": [
    "import matplotlib.pyplot as plt\n",
    "import seaborn as sns\n",
    "# Changement de police des graphiques\n",
    "plt.rc('font', family = 'serif', serif = 'cmr10')\n",
    "plt.rcParams.update({\"text.usetex\": True, \"axes.formatter.use_mathtext\" : True})\n",
    "\n",
    "\n",
    "table_val_prop['% of variance'] = table_val_prop['% of variance'].str.strip('%').astype('float')\n",
    "\n",
    "fig, ax = plt.subplots(figsize=(8,5))\n",
    "sns.barplot(x='component', y='% of variance', data=table_val_prop,\n",
    "            color=\"tab:blue\", width=0.5)\n",
    "\n",
    "# titre et axes\n",
    "plt.title(\"Pourcentage de variance expliquée par les composantes principales\")\n",
    "plt.xlabel(\"Composante principale\")\n",
    "plt.ylabel(\"Pourcentage\")\n",
    "plt.ylim(0,25)\n",
    "\n",
    "# grille en arrière-plan\n",
    "ax.yaxis.grid(True)\n",
    "ax.set_axisbelow(True) \n",
    "plt.show()"
   ]
  },
  {
   "cell_type": "markdown",
   "id": "9f466f8a-7ccd-4887-8ec4-809d8c35e66a",
   "metadata": {},
   "source": [
    "Le pourcentage de variance expliquée est assez homogène suivant les composantes principales. Les premières composantes n'expliquent qu'une faible part de la variance du jeu de données.\n",
    "\n",
    "Après m'être documenté, j'ai vu que le pourcentage de variance expliqué par les premières composantes est sous-estimé par la méthode de calcul. Si on veut avoir un meilleur aperçu de ce pourcentage, il faut appliquer une double correction : celle de Benzécri et celle de Greenacre. \n",
    "\n",
    "### Correction de Benzécri\n",
    "\n",
    "Cette correction ne s'applique qu'aux composantes dont la valeur propre est supérieure à $\\dfrac{1}{p}$ où $p$ est le nombre de variables. Ici , $\\dfrac{1}{p}=\\dfrac{1}{5}=0.2$.\n",
    "\n",
    "Seules les deux premières composantes ont une valeur propre supérieure à ce seuil.\n",
    "\n",
    "Formule de correction : $\\lambda_{corr}=\\left[\\left(\\dfrac{p}{1-p}\\right)\\times\\left(\\lambda-\\dfrac{1}{p}\\right)\\right]^2$"
   ]
  },
  {
   "cell_type": "code",
   "execution_count": 136,
   "id": "a4d7051f-959f-4d9b-a1e2-962da496389c",
   "metadata": {
    "tags": []
   },
   "outputs": [
    {
     "data": {
      "text/plain": [
       "0    0.256\n",
       "1    0.204\n",
       "Name: eigenvalue, dtype: float64"
      ]
     },
     "execution_count": 136,
     "metadata": {},
     "output_type": "execute_result"
    }
   ],
   "source": [
    "#sélection des valeurs propres\n",
    "table_val_prop['eigenvalue'] = table_val_prop['eigenvalue'].astype('float')\n",
    "val_p = table_val_prop.loc[table_val_prop['eigenvalue']>0.2, 'eigenvalue']\n",
    "val_p"
   ]
  },
  {
   "cell_type": "code",
   "execution_count": 151,
   "id": "e79fd337-4848-45b9-85ac-072782ca3379",
   "metadata": {
    "tags": []
   },
   "outputs": [
    {
     "data": {
      "text/plain": [
       "0    0.004900\n",
       "1    0.000025\n",
       "Name: eigenvalue, dtype: float64"
      ]
     },
     "execution_count": 151,
     "metadata": {},
     "output_type": "execute_result"
    }
   ],
   "source": [
    "p = 5\n",
    "# Correction de Benzécri\n",
    "val_p_corr = ((p/(1-p))*(val_p-1/p))**2\n",
    "val_p_corr"
   ]
  },
  {
   "cell_type": "markdown",
   "id": "f6795e69-0edd-4aad-b997-1d622a97c296",
   "metadata": {},
   "source": [
    "### Correction de Greenacre\n",
    "\n",
    "Cette correction va permettre de calculer le pourcentage de variance expliquée par les composantes principales retenues en utilisant les valeurs propres corrigées.\n",
    "\n",
    "Variance totale : $V = \\dfrac{p}{1-p}\\left(\\displaystyle\\sum_k \\lambda_k^2 - \\dfrac{M-p}{p^2}\\right)$ où $M$ est le nombre total de modalités.\n",
    "\n",
    "Pourcentage corrigé de variance d'une composante $i$ : $\\tau_i = \\dfrac{\\lambda_{corr-i}}{V}\\times 100$"
   ]
  },
  {
   "cell_type": "code",
   "execution_count": 144,
   "id": "5f439e13-56ec-4985-96eb-1a3bbf6c0905",
   "metadata": {
    "tags": []
   },
   "outputs": [
    {
     "data": {
      "text/plain": [
       "0.0069437500000000055"
      ]
     },
     "execution_count": 144,
     "metadata": {},
     "output_type": "execute_result"
    }
   ],
   "source": [
    "M=11\n",
    "V = (p/(p-1)) * (np.sum(table_val_prop['eigenvalue']**2) - (M-p)/(p**2))\n",
    "V"
   ]
  },
  {
   "cell_type": "code",
   "execution_count": 145,
   "id": "60475e82-8069-450b-9bd8-1b4973d412ff",
   "metadata": {
    "tags": []
   },
   "outputs": [
    {
     "data": {
      "text/plain": [
       "0    70.567057\n",
       "1     0.360036\n",
       "Name: eigenvalue, dtype: float64"
      ]
     },
     "execution_count": 145,
     "metadata": {},
     "output_type": "execute_result"
    }
   ],
   "source": [
    "pourc_var_exp = val_p_corr/V*100\n",
    "pourc_var_exp"
   ]
  },
  {
   "cell_type": "markdown",
   "id": "54165337-fd54-466e-a4cf-f4d4f0330465",
   "metadata": {},
   "source": [
    "D'après les valeurs données par les corrections, la première composante principale restitue 71 % de la variance et la deuxième en restitue 0,4 %. Ce deuxième chiffre est surprenant."
   ]
  },
  {
   "cell_type": "markdown",
   "id": "64ed4bec-42a4-4663-a2e4-32faa1a8a4ee",
   "metadata": {},
   "source": [
    "### Coordonnées et représentation des variables suivant les composantes principales"
   ]
  },
  {
   "cell_type": "code",
   "execution_count": 162,
   "id": "9978dab5-66b8-4cf0-9e4b-9566d89e06f9",
   "metadata": {
    "tags": []
   },
   "outputs": [
    {
     "data": {
      "text/html": [
       "<div>\n",
       "<style scoped>\n",
       "    .dataframe tbody tr th:only-of-type {\n",
       "        vertical-align: middle;\n",
       "    }\n",
       "\n",
       "    .dataframe tbody tr th {\n",
       "        vertical-align: top;\n",
       "    }\n",
       "\n",
       "    .dataframe thead th {\n",
       "        text-align: right;\n",
       "    }\n",
       "</style>\n",
       "<table border=\"1\" class=\"dataframe\">\n",
       "  <thead>\n",
       "    <tr style=\"text-align: right;\">\n",
       "      <th></th>\n",
       "      <th>0</th>\n",
       "      <th>1</th>\n",
       "      <th>2</th>\n",
       "      <th>3</th>\n",
       "      <th>4</th>\n",
       "      <th>5</th>\n",
       "    </tr>\n",
       "  </thead>\n",
       "  <tbody>\n",
       "    <tr>\n",
       "      <th>gender_0</th>\n",
       "      <td>-0.741773</td>\n",
       "      <td>-0.008877</td>\n",
       "      <td>0.055198</td>\n",
       "      <td>-0.026360</td>\n",
       "      <td>-0.061579</td>\n",
       "      <td>0.656925</td>\n",
       "    </tr>\n",
       "    <tr>\n",
       "      <th>gender_1</th>\n",
       "      <td>0.744985</td>\n",
       "      <td>-0.150586</td>\n",
       "      <td>-0.274394</td>\n",
       "      <td>-0.051835</td>\n",
       "      <td>0.018823</td>\n",
       "      <td>-0.660332</td>\n",
       "    </tr>\n",
       "    <tr>\n",
       "      <th>gender_2</th>\n",
       "      <td>0.866998</td>\n",
       "      <td>3.953923</td>\n",
       "      <td>5.349015</td>\n",
       "      <td>1.966944</td>\n",
       "      <td>1.135670</td>\n",
       "      <td>-0.753902</td>\n",
       "    </tr>\n",
       "    <tr>\n",
       "      <th>voyage_0</th>\n",
       "      <td>-0.073505</td>\n",
       "      <td>-0.336529</td>\n",
       "      <td>0.081374</td>\n",
       "      <td>0.388492</td>\n",
       "      <td>0.083237</td>\n",
       "      <td>-0.040809</td>\n",
       "    </tr>\n",
       "    <tr>\n",
       "      <th>voyage_1</th>\n",
       "      <td>0.258096</td>\n",
       "      <td>1.181647</td>\n",
       "      <td>-0.285726</td>\n",
       "      <td>-1.364105</td>\n",
       "      <td>-0.292268</td>\n",
       "      <td>0.143290</td>\n",
       "    </tr>\n",
       "    <tr>\n",
       "      <th>laugh_0</th>\n",
       "      <td>0.046401</td>\n",
       "      <td>-0.271454</td>\n",
       "      <td>0.289421</td>\n",
       "      <td>-0.287210</td>\n",
       "      <td>0.034030</td>\n",
       "      <td>0.003605</td>\n",
       "    </tr>\n",
       "    <tr>\n",
       "      <th>laugh_1</th>\n",
       "      <td>-0.190743</td>\n",
       "      <td>1.115876</td>\n",
       "      <td>-1.189731</td>\n",
       "      <td>1.180645</td>\n",
       "      <td>-0.139887</td>\n",
       "      <td>-0.014817</td>\n",
       "    </tr>\n",
       "    <tr>\n",
       "      <th>photo.keke_0</th>\n",
       "      <td>0.233292</td>\n",
       "      <td>-0.034335</td>\n",
       "      <td>0.061623</td>\n",
       "      <td>0.083404</td>\n",
       "      <td>-0.326515</td>\n",
       "      <td>0.134085</td>\n",
       "    </tr>\n",
       "    <tr>\n",
       "      <th>photo.keke_1</th>\n",
       "      <td>-1.221754</td>\n",
       "      <td>0.179810</td>\n",
       "      <td>-0.322719</td>\n",
       "      <td>-0.436788</td>\n",
       "      <td>1.709961</td>\n",
       "      <td>-0.702205</td>\n",
       "    </tr>\n",
       "    <tr>\n",
       "      <th>photo.beach_0</th>\n",
       "      <td>-0.291215</td>\n",
       "      <td>0.006470</td>\n",
       "      <td>0.057542</td>\n",
       "      <td>-0.020504</td>\n",
       "      <td>-0.259905</td>\n",
       "      <td>-0.226083</td>\n",
       "    </tr>\n",
       "    <tr>\n",
       "      <th>photo.beach_1</th>\n",
       "      <td>1.405181</td>\n",
       "      <td>-0.031221</td>\n",
       "      <td>-0.277653</td>\n",
       "      <td>0.098938</td>\n",
       "      <td>1.254105</td>\n",
       "      <td>1.090906</td>\n",
       "    </tr>\n",
       "  </tbody>\n",
       "</table>\n",
       "</div>"
      ],
      "text/plain": [
       "                      0         1         2         3         4         5\n",
       "gender_0      -0.741773 -0.008877  0.055198 -0.026360 -0.061579  0.656925\n",
       "gender_1       0.744985 -0.150586 -0.274394 -0.051835  0.018823 -0.660332\n",
       "gender_2       0.866998  3.953923  5.349015  1.966944  1.135670 -0.753902\n",
       "voyage_0      -0.073505 -0.336529  0.081374  0.388492  0.083237 -0.040809\n",
       "voyage_1       0.258096  1.181647 -0.285726 -1.364105 -0.292268  0.143290\n",
       "laugh_0        0.046401 -0.271454  0.289421 -0.287210  0.034030  0.003605\n",
       "laugh_1       -0.190743  1.115876 -1.189731  1.180645 -0.139887 -0.014817\n",
       "photo.keke_0   0.233292 -0.034335  0.061623  0.083404 -0.326515  0.134085\n",
       "photo.keke_1  -1.221754  0.179810 -0.322719 -0.436788  1.709961 -0.702205\n",
       "photo.beach_0 -0.291215  0.006470  0.057542 -0.020504 -0.259905 -0.226083\n",
       "photo.beach_1  1.405181 -0.031221 -0.277653  0.098938  1.254105  1.090906"
      ]
     },
     "execution_count": 162,
     "metadata": {},
     "output_type": "execute_result"
    }
   ],
   "source": [
    "coord = mca.column_coordinates(users_rec)\n",
    "coord"
   ]
  },
  {
   "cell_type": "markdown",
   "id": "7b49c048-fc0c-4f56-82b2-4549c8bdf42d",
   "metadata": {},
   "source": [
    "Représentation sur le plan factoriel des deux premières composantes."
   ]
  },
  {
   "cell_type": "code",
   "execution_count": 166,
   "id": "ca283433-d1f0-4fbb-9691-ed4ee0ce7bc6",
   "metadata": {
    "tags": []
   },
   "outputs": [
    {
     "data": {
      "image/png": "[encoded data removed]",
      "text/plain": [
       "<Figure size 800x800 with 1 Axes>"
      ]
     },
     "metadata": {},
     "output_type": "display_data"
    }
   ],
   "source": [
    "fig, ax = plt.subplots(figsize=(8,8))\n",
    "\n",
    "#range en abscisse et en ordonnée\n",
    "maxi = np.max([np.max(coord[0]),np.max(coord[1])])+0.5\n",
    "mini = np.min([np.min(coord[0]),np.min(coord[1])])-0.5\n",
    "\n",
    "#axes\n",
    "plt.plot([mini, maxi], [0,0], color='darkgrey', linestyle='--')\n",
    "plt.plot([0,0], [mini, maxi], color='darkgrey', linestyle='--')\n",
    "plt.xlim(mini, maxi)\n",
    "plt.ylim(mini, maxi)\n",
    "\n",
    "#Placement des variables\n",
    "for var in coord.index:\n",
    "    if var[0:3] == \"gen\":\n",
    "        coul = 'teal'\n",
    "    elif var[0:3] == \"voy\":\n",
    "        coul = 'indianred'\n",
    "    elif var[0:3] == \"lau\":\n",
    "        coul = \"forestgreen\"\n",
    "    elif var[6:8]==\"ke\":\n",
    "        coul = \"slateblue\"\n",
    "    else:\n",
    "        coul = \"chocolate\"\n",
    "    plt.text(coord.loc[var,0]+0.05, coord.loc[var,1]+0.05, var, size=11, color=coul)\n",
    "    plt.scatter(coord.loc[var,0], coord.loc[var,1], color=coul)\n",
    "    \n",
    "#Titre et labels\n",
    "plt.title(\"Variables dans le plan factoriel des deux premières composantes\")\n",
    "plt.xlabel(\"PC1 (\" +str(table_val_prop.iloc[0,1])+\"\\%)\")\n",
    "plt.ylabel(\"PC2 (\" +str(table_val_prop.iloc[1,1])+\"\\%)\")\n",
    "\n",
    "plt.show()"
   ]
  },
  {
   "cell_type": "markdown",
   "id": "dacae411-93be-40f6-bad4-09159f842926",
   "metadata": {},
   "source": [
    "***\n",
    "## 3. Que constatez vous quant à l’inertie représentée sur ce plan ?\n",
    "\n",
    "Si on se contente de regarder le pourcentage de variance expliquée donné par l'ACM, celui-ci est faible (38 %). Si on utilise les corrections de Benzécri et Greenacre, on obtient une valeur bien plus importante (71%)."
   ]
  },
  {
   "cell_type": "markdown",
   "id": "41cc794f-992e-432b-8523-b2b0adaf58f0",
   "metadata": {},
   "source": [
    "***\n",
    "## 4. Description des résultats obtenus sur la figure précédente.\n",
    "\n",
    "Si on fait abstraction de la variance restituée par le plan factoriel, on remarque que :\n",
    "\n",
    "- Les personnes qui incluent le mot \"voyage\" dans leur description sont aussi celles qui y écrivent le mot \"rire\".\n",
    "- Les personnes qui mettent des photos de kéké sont pluôt des hommes.\n",
    "- Les personnes qui mettent des photos à laa plage sont plutôt des femmes.\n",
    "- Les personnes du genre \"autre\" ont un profil très distinct des autres."
   ]
  },
  {
   "cell_type": "markdown",
   "id": "a57c2c94-827d-4343-b552-8feab6e0a647",
   "metadata": {},
   "source": [
    "***\n",
    "## 5. Table des contributions.\n"
   ]
  },
  {
   "cell_type": "code",
   "execution_count": 156,
   "id": "0a4b58e9-5f1d-48be-a3b5-8ac567160ab0",
   "metadata": {
    "tags": []
   },
   "outputs": [
    {
     "data": {
      "text/html": [
       "<div>\n",
       "<style scoped>\n",
       "    .dataframe tbody tr th:only-of-type {\n",
       "        vertical-align: middle;\n",
       "    }\n",
       "\n",
       "    .dataframe tbody tr th {\n",
       "        vertical-align: top;\n",
       "    }\n",
       "\n",
       "    .dataframe thead th {\n",
       "        text-align: right;\n",
       "    }\n",
       "</style>\n",
       "<table border=\"1\" class=\"dataframe\">\n",
       "  <thead>\n",
       "    <tr style=\"text-align: right;\">\n",
       "      <th></th>\n",
       "      <th>PC1</th>\n",
       "      <th>PC2</th>\n",
       "    </tr>\n",
       "  </thead>\n",
       "  <tbody>\n",
       "    <tr>\n",
       "      <th>gender_0</th>\n",
       "      <td>21.6</td>\n",
       "      <td>0.0</td>\n",
       "    </tr>\n",
       "    <tr>\n",
       "      <th>gender_1</th>\n",
       "      <td>20.8</td>\n",
       "      <td>1.1</td>\n",
       "    </tr>\n",
       "    <tr>\n",
       "      <th>gender_2</th>\n",
       "      <td>1.1</td>\n",
       "      <td>29.6</td>\n",
       "    </tr>\n",
       "    <tr>\n",
       "      <th>voyage_0</th>\n",
       "      <td>0.3</td>\n",
       "      <td>8.6</td>\n",
       "    </tr>\n",
       "    <tr>\n",
       "      <th>voyage_1</th>\n",
       "      <td>1.2</td>\n",
       "      <td>30.3</td>\n",
       "    </tr>\n",
       "    <tr>\n",
       "      <th>laugh_0</th>\n",
       "      <td>0.1</td>\n",
       "      <td>5.8</td>\n",
       "    </tr>\n",
       "    <tr>\n",
       "      <th>laugh_1</th>\n",
       "      <td>0.6</td>\n",
       "      <td>23.9</td>\n",
       "    </tr>\n",
       "    <tr>\n",
       "      <th>photo.keke_0</th>\n",
       "      <td>3.6</td>\n",
       "      <td>0.1</td>\n",
       "    </tr>\n",
       "    <tr>\n",
       "      <th>photo.keke_1</th>\n",
       "      <td>18.7</td>\n",
       "      <td>0.5</td>\n",
       "    </tr>\n",
       "    <tr>\n",
       "      <th>photo.beach_0</th>\n",
       "      <td>5.5</td>\n",
       "      <td>0.0</td>\n",
       "    </tr>\n",
       "    <tr>\n",
       "      <th>photo.beach_1</th>\n",
       "      <td>26.5</td>\n",
       "      <td>0.0</td>\n",
       "    </tr>\n",
       "  </tbody>\n",
       "</table>\n",
       "</div>"
      ],
      "text/plain": [
       "                PC1   PC2\n",
       "gender_0       21.6   0.0\n",
       "gender_1       20.8   1.1\n",
       "gender_2        1.1  29.6\n",
       "voyage_0        0.3   8.6\n",
       "voyage_1        1.2  30.3\n",
       "laugh_0         0.1   5.8\n",
       "laugh_1         0.6  23.9\n",
       "photo.keke_0    3.6   0.1\n",
       "photo.keke_1   18.7   0.5\n",
       "photo.beach_0   5.5   0.0\n",
       "photo.beach_1  26.5   0.0"
      ]
     },
     "execution_count": 156,
     "metadata": {},
     "output_type": "execute_result"
    }
   ],
   "source": [
    "round(mca.column_contributions_.iloc[:,0:2].rename(columns={0:'PC1', 1:'PC2'})*100,1)"
   ]
  },
  {
   "cell_type": "markdown",
   "id": "0b9d59e4-1201-48a9-93b7-cb41b5f1dd25",
   "metadata": {},
   "source": [
    "On remarque que les modalités contribuant le plus à PC1 sont le genre homme, le genre femme, le fait de mettre une photo de kéké et le fait de mettre une photo de plage.\n",
    "\n",
    "Les modalités contribuant le plus à PC2 sont le genre autres, le fait d'inclure de mot \"voyage\" dans la description et le fait d'y inclure le mot 'rire'.\n",
    "\n",
    "Il s'agit à chaque fois des variables les plus éloignées de l'origine."
   ]
  },
  {
   "cell_type": "code",
   "execution_count": null,
   "id": "fee964a6-1f4f-4232-a050-f14c998001bf",
   "metadata": {},
   "outputs": [],
   "source": []
  }
 ],
 "metadata": {
  "kernelspec": {
   "display_name": "Python 3 (ipykernel)",
   "language": "python",
   "name": "python3"
  },
  "language_info": {
   "codemirror_mode": {
    "name": "ipython",
    "version": 3
   },
   "file_extension": ".py",
   "mimetype": "text/x-python",
   "name": "python",
   "nbconvert_exporter": "python",
   "pygments_lexer": "ipython3",
   "version": "3.11.4"
  }
 },
 "nbformat": 4,
 "nbformat_minor": 5
}
