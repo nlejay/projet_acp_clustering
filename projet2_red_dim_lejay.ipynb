{
 "cells": [
  {
   "cell_type": "markdown",
   "id": "b1cc2585-4258-4d83-b3a7-45940a9d87d5",
   "metadata": {},
   "source": [
    "# Projet réduction de dimensionnalité et techniques de clustering - Projet 2\n",
    "## Chargement des données"
   ]
  },
  {
   "cell_type": "code",
   "execution_count": 1,
   "id": "3a95e787-4a83-4159-8cb7-6e00a50d4169",
   "metadata": {},
   "outputs": [
    {
     "data": {
      "text/html": [
       "<div>\n",
       "<style scoped>\n",
       "    .dataframe tbody tr th:only-of-type {\n",
       "        vertical-align: middle;\n",
       "    }\n",
       "\n",
       "    .dataframe tbody tr th {\n",
       "        vertical-align: top;\n",
       "    }\n",
       "\n",
       "    .dataframe thead th {\n",
       "        text-align: right;\n",
       "    }\n",
       "</style>\n",
       "<table border=\"1\" class=\"dataframe\">\n",
       "  <thead>\n",
       "    <tr style=\"text-align: right;\">\n",
       "      <th></th>\n",
       "      <th>Unnamed: 0</th>\n",
       "      <th>100m</th>\n",
       "      <th>Longueur</th>\n",
       "      <th>Poids</th>\n",
       "      <th>Hauteur</th>\n",
       "      <th>400m</th>\n",
       "      <th>110m H</th>\n",
       "      <th>Disque</th>\n",
       "      <th>Perche</th>\n",
       "      <th>Javelot</th>\n",
       "      <th>1500m</th>\n",
       "      <th>Classement</th>\n",
       "      <th>Points</th>\n",
       "      <th>Competition</th>\n",
       "    </tr>\n",
       "  </thead>\n",
       "  <tbody>\n",
       "    <tr>\n",
       "      <th>0</th>\n",
       "      <td>Sebrle</td>\n",
       "      <td>10.85</td>\n",
       "      <td>7.84</td>\n",
       "      <td>16.36</td>\n",
       "      <td>2.12</td>\n",
       "      <td>48.36</td>\n",
       "      <td>14.05</td>\n",
       "      <td>48.72</td>\n",
       "      <td>5.0</td>\n",
       "      <td>70.52</td>\n",
       "      <td>280.01</td>\n",
       "      <td>1</td>\n",
       "      <td>8893</td>\n",
       "      <td>JO</td>\n",
       "    </tr>\n",
       "    <tr>\n",
       "      <th>1</th>\n",
       "      <td>Clay</td>\n",
       "      <td>10.44</td>\n",
       "      <td>7.96</td>\n",
       "      <td>15.23</td>\n",
       "      <td>2.06</td>\n",
       "      <td>49.19</td>\n",
       "      <td>14.13</td>\n",
       "      <td>50.11</td>\n",
       "      <td>4.9</td>\n",
       "      <td>69.71</td>\n",
       "      <td>282.00</td>\n",
       "      <td>2</td>\n",
       "      <td>8820</td>\n",
       "      <td>JO</td>\n",
       "    </tr>\n",
       "    <tr>\n",
       "      <th>2</th>\n",
       "      <td>Karpov</td>\n",
       "      <td>10.50</td>\n",
       "      <td>7.81</td>\n",
       "      <td>15.93</td>\n",
       "      <td>2.09</td>\n",
       "      <td>46.81</td>\n",
       "      <td>13.97</td>\n",
       "      <td>51.65</td>\n",
       "      <td>4.6</td>\n",
       "      <td>55.54</td>\n",
       "      <td>278.11</td>\n",
       "      <td>3</td>\n",
       "      <td>8725</td>\n",
       "      <td>JO</td>\n",
       "    </tr>\n",
       "    <tr>\n",
       "      <th>3</th>\n",
       "      <td>Macey</td>\n",
       "      <td>10.89</td>\n",
       "      <td>7.47</td>\n",
       "      <td>15.73</td>\n",
       "      <td>2.15</td>\n",
       "      <td>48.97</td>\n",
       "      <td>14.56</td>\n",
       "      <td>48.34</td>\n",
       "      <td>4.4</td>\n",
       "      <td>58.46</td>\n",
       "      <td>265.42</td>\n",
       "      <td>4</td>\n",
       "      <td>8414</td>\n",
       "      <td>JO</td>\n",
       "    </tr>\n",
       "    <tr>\n",
       "      <th>4</th>\n",
       "      <td>Warners</td>\n",
       "      <td>10.62</td>\n",
       "      <td>7.74</td>\n",
       "      <td>14.48</td>\n",
       "      <td>1.97</td>\n",
       "      <td>47.97</td>\n",
       "      <td>14.01</td>\n",
       "      <td>43.73</td>\n",
       "      <td>4.9</td>\n",
       "      <td>55.39</td>\n",
       "      <td>278.05</td>\n",
       "      <td>5</td>\n",
       "      <td>8343</td>\n",
       "      <td>JO</td>\n",
       "    </tr>\n",
       "  </tbody>\n",
       "</table>\n",
       "</div>"
      ],
      "text/plain": [
       "  Unnamed: 0   100m  Longueur  Poids  Hauteur   400m  110m H  Disque  Perche  \\\n",
       "0     Sebrle  10.85      7.84  16.36     2.12  48.36   14.05   48.72     5.0   \n",
       "1       Clay  10.44      7.96  15.23     2.06  49.19   14.13   50.11     4.9   \n",
       "2     Karpov  10.50      7.81  15.93     2.09  46.81   13.97   51.65     4.6   \n",
       "3      Macey  10.89      7.47  15.73     2.15  48.97   14.56   48.34     4.4   \n",
       "4    Warners  10.62      7.74  14.48     1.97  47.97   14.01   43.73     4.9   \n",
       "\n",
       "   Javelot   1500m  Classement  Points Competition  \n",
       "0    70.52  280.01           1    8893          JO  \n",
       "1    69.71  282.00           2    8820          JO  \n",
       "2    55.54  278.11           3    8725          JO  \n",
       "3    58.46  265.42           4    8414          JO  \n",
       "4    55.39  278.05           5    8343          JO  "
      ]
     },
     "execution_count": 1,
     "metadata": {},
     "output_type": "execute_result"
    }
   ],
   "source": [
    "import pandas as pd\n",
    "import numpy as np\n",
    "df_decathlon= pd.read_csv('src/decathlon.csv', sep=';')\n",
    "df_decathlon.head()"
   ]
  },
  {
   "cell_type": "code",
   "execution_count": 2,
   "id": "8748239e-b302-4fd7-9d05-00fe5daadea5",
   "metadata": {},
   "outputs": [
    {
     "data": {
      "text/html": [
       "<div>\n",
       "<style scoped>\n",
       "    .dataframe tbody tr th:only-of-type {\n",
       "        vertical-align: middle;\n",
       "    }\n",
       "\n",
       "    .dataframe tbody tr th {\n",
       "        vertical-align: top;\n",
       "    }\n",
       "\n",
       "    .dataframe thead th {\n",
       "        text-align: right;\n",
       "    }\n",
       "</style>\n",
       "<table border=\"1\" class=\"dataframe\">\n",
       "  <thead>\n",
       "    <tr style=\"text-align: right;\">\n",
       "      <th></th>\n",
       "      <th>Nom</th>\n",
       "      <th>100m</th>\n",
       "      <th>Longueur</th>\n",
       "      <th>Poids</th>\n",
       "      <th>Hauteur</th>\n",
       "      <th>400m</th>\n",
       "      <th>110m H</th>\n",
       "      <th>Disque</th>\n",
       "      <th>Perche</th>\n",
       "      <th>Javelot</th>\n",
       "      <th>1500m</th>\n",
       "      <th>Classement</th>\n",
       "      <th>Points</th>\n",
       "      <th>Competition</th>\n",
       "    </tr>\n",
       "  </thead>\n",
       "  <tbody>\n",
       "    <tr>\n",
       "      <th>0</th>\n",
       "      <td>Sebrle</td>\n",
       "      <td>10.85</td>\n",
       "      <td>7.84</td>\n",
       "      <td>16.36</td>\n",
       "      <td>2.12</td>\n",
       "      <td>48.36</td>\n",
       "      <td>14.05</td>\n",
       "      <td>48.72</td>\n",
       "      <td>5.0</td>\n",
       "      <td>70.52</td>\n",
       "      <td>280.01</td>\n",
       "      <td>1</td>\n",
       "      <td>8893</td>\n",
       "      <td>JO</td>\n",
       "    </tr>\n",
       "    <tr>\n",
       "      <th>1</th>\n",
       "      <td>Clay</td>\n",
       "      <td>10.44</td>\n",
       "      <td>7.96</td>\n",
       "      <td>15.23</td>\n",
       "      <td>2.06</td>\n",
       "      <td>49.19</td>\n",
       "      <td>14.13</td>\n",
       "      <td>50.11</td>\n",
       "      <td>4.9</td>\n",
       "      <td>69.71</td>\n",
       "      <td>282.00</td>\n",
       "      <td>2</td>\n",
       "      <td>8820</td>\n",
       "      <td>JO</td>\n",
       "    </tr>\n",
       "    <tr>\n",
       "      <th>2</th>\n",
       "      <td>Karpov</td>\n",
       "      <td>10.50</td>\n",
       "      <td>7.81</td>\n",
       "      <td>15.93</td>\n",
       "      <td>2.09</td>\n",
       "      <td>46.81</td>\n",
       "      <td>13.97</td>\n",
       "      <td>51.65</td>\n",
       "      <td>4.6</td>\n",
       "      <td>55.54</td>\n",
       "      <td>278.11</td>\n",
       "      <td>3</td>\n",
       "      <td>8725</td>\n",
       "      <td>JO</td>\n",
       "    </tr>\n",
       "    <tr>\n",
       "      <th>3</th>\n",
       "      <td>Macey</td>\n",
       "      <td>10.89</td>\n",
       "      <td>7.47</td>\n",
       "      <td>15.73</td>\n",
       "      <td>2.15</td>\n",
       "      <td>48.97</td>\n",
       "      <td>14.56</td>\n",
       "      <td>48.34</td>\n",
       "      <td>4.4</td>\n",
       "      <td>58.46</td>\n",
       "      <td>265.42</td>\n",
       "      <td>4</td>\n",
       "      <td>8414</td>\n",
       "      <td>JO</td>\n",
       "    </tr>\n",
       "    <tr>\n",
       "      <th>4</th>\n",
       "      <td>Warners</td>\n",
       "      <td>10.62</td>\n",
       "      <td>7.74</td>\n",
       "      <td>14.48</td>\n",
       "      <td>1.97</td>\n",
       "      <td>47.97</td>\n",
       "      <td>14.01</td>\n",
       "      <td>43.73</td>\n",
       "      <td>4.9</td>\n",
       "      <td>55.39</td>\n",
       "      <td>278.05</td>\n",
       "      <td>5</td>\n",
       "      <td>8343</td>\n",
       "      <td>JO</td>\n",
       "    </tr>\n",
       "  </tbody>\n",
       "</table>\n",
       "</div>"
      ],
      "text/plain": [
       "       Nom   100m  Longueur  Poids  Hauteur   400m  110m H  Disque  Perche  \\\n",
       "0   Sebrle  10.85      7.84  16.36     2.12  48.36   14.05   48.72     5.0   \n",
       "1     Clay  10.44      7.96  15.23     2.06  49.19   14.13   50.11     4.9   \n",
       "2   Karpov  10.50      7.81  15.93     2.09  46.81   13.97   51.65     4.6   \n",
       "3    Macey  10.89      7.47  15.73     2.15  48.97   14.56   48.34     4.4   \n",
       "4  Warners  10.62      7.74  14.48     1.97  47.97   14.01   43.73     4.9   \n",
       "\n",
       "   Javelot   1500m  Classement  Points Competition  \n",
       "0    70.52  280.01           1    8893          JO  \n",
       "1    69.71  282.00           2    8820          JO  \n",
       "2    55.54  278.11           3    8725          JO  \n",
       "3    58.46  265.42           4    8414          JO  \n",
       "4    55.39  278.05           5    8343          JO  "
      ]
     },
     "execution_count": 2,
     "metadata": {},
     "output_type": "execute_result"
    }
   ],
   "source": [
    "df_decathlon.rename(columns={'Unnamed: 0':'Nom'}, inplace=True)\n",
    "df_decathlon.head()"
   ]
  },
  {
   "cell_type": "code",
   "execution_count": 3,
   "id": "672abf86-9875-427e-b789-55af18f9f8e8",
   "metadata": {},
   "outputs": [
    {
     "name": "stdout",
     "output_type": "stream",
     "text": [
      "<class 'pandas.core.frame.DataFrame'>\n",
      "RangeIndex: 41 entries, 0 to 40\n",
      "Data columns (total 14 columns):\n",
      " #   Column       Non-Null Count  Dtype  \n",
      "---  ------       --------------  -----  \n",
      " 0   Nom          41 non-null     object \n",
      " 1   100m         41 non-null     float64\n",
      " 2   Longueur     41 non-null     float64\n",
      " 3   Poids        41 non-null     float64\n",
      " 4   Hauteur      41 non-null     float64\n",
      " 5   400m         41 non-null     float64\n",
      " 6   110m H       41 non-null     float64\n",
      " 7   Disque       41 non-null     float64\n",
      " 8   Perche       41 non-null     float64\n",
      " 9   Javelot      41 non-null     float64\n",
      " 10  1500m        41 non-null     float64\n",
      " 11  Classement   41 non-null     int64  \n",
      " 12  Points       41 non-null     int64  \n",
      " 13  Competition  41 non-null     object \n",
      "dtypes: float64(10), int64(2), object(2)\n",
      "memory usage: 4.6+ KB\n"
     ]
    }
   ],
   "source": [
    "df_decathlon.info()"
   ]
  },
  {
   "cell_type": "markdown",
   "id": "1c7bf12c-f0b6-45a8-ab6f-5a24abd5ab6d",
   "metadata": {},
   "source": [
    "Pas de données manquantes"
   ]
  },
  {
   "cell_type": "code",
   "execution_count": 4,
   "id": "75475b7a-1f9f-41c1-9cd9-25e3ec1b86a4",
   "metadata": {},
   "outputs": [
    {
     "data": {
      "text/html": [
       "<div>\n",
       "<style scoped>\n",
       "    .dataframe tbody tr th:only-of-type {\n",
       "        vertical-align: middle;\n",
       "    }\n",
       "\n",
       "    .dataframe tbody tr th {\n",
       "        vertical-align: top;\n",
       "    }\n",
       "\n",
       "    .dataframe thead th {\n",
       "        text-align: right;\n",
       "    }\n",
       "</style>\n",
       "<table border=\"1\" class=\"dataframe\">\n",
       "  <thead>\n",
       "    <tr style=\"text-align: right;\">\n",
       "      <th></th>\n",
       "      <th>100m</th>\n",
       "      <th>Longueur</th>\n",
       "      <th>Poids</th>\n",
       "      <th>Hauteur</th>\n",
       "      <th>400m</th>\n",
       "      <th>110m H</th>\n",
       "      <th>Disque</th>\n",
       "      <th>Perche</th>\n",
       "      <th>Javelot</th>\n",
       "      <th>1500m</th>\n",
       "      <th>Classement</th>\n",
       "      <th>Points</th>\n",
       "    </tr>\n",
       "  </thead>\n",
       "  <tbody>\n",
       "    <tr>\n",
       "      <th>count</th>\n",
       "      <td>41.000000</td>\n",
       "      <td>41.000000</td>\n",
       "      <td>41.000000</td>\n",
       "      <td>41.000000</td>\n",
       "      <td>41.000000</td>\n",
       "      <td>41.000000</td>\n",
       "      <td>41.000000</td>\n",
       "      <td>41.000000</td>\n",
       "      <td>41.000000</td>\n",
       "      <td>41.000000</td>\n",
       "      <td>41.000000</td>\n",
       "      <td>41.000000</td>\n",
       "    </tr>\n",
       "    <tr>\n",
       "      <th>mean</th>\n",
       "      <td>10.998049</td>\n",
       "      <td>7.260000</td>\n",
       "      <td>14.477073</td>\n",
       "      <td>1.976829</td>\n",
       "      <td>49.616341</td>\n",
       "      <td>14.605854</td>\n",
       "      <td>44.325610</td>\n",
       "      <td>4.762439</td>\n",
       "      <td>58.316585</td>\n",
       "      <td>279.024878</td>\n",
       "      <td>12.121951</td>\n",
       "      <td>8005.365854</td>\n",
       "    </tr>\n",
       "    <tr>\n",
       "      <th>std</th>\n",
       "      <td>0.263023</td>\n",
       "      <td>0.316402</td>\n",
       "      <td>0.824428</td>\n",
       "      <td>0.088951</td>\n",
       "      <td>1.153451</td>\n",
       "      <td>0.471789</td>\n",
       "      <td>3.377845</td>\n",
       "      <td>0.278000</td>\n",
       "      <td>4.826820</td>\n",
       "      <td>11.673247</td>\n",
       "      <td>7.918949</td>\n",
       "      <td>342.385145</td>\n",
       "    </tr>\n",
       "    <tr>\n",
       "      <th>min</th>\n",
       "      <td>10.440000</td>\n",
       "      <td>6.610000</td>\n",
       "      <td>12.680000</td>\n",
       "      <td>1.850000</td>\n",
       "      <td>46.810000</td>\n",
       "      <td>13.970000</td>\n",
       "      <td>37.920000</td>\n",
       "      <td>4.200000</td>\n",
       "      <td>50.310000</td>\n",
       "      <td>262.100000</td>\n",
       "      <td>1.000000</td>\n",
       "      <td>7313.000000</td>\n",
       "    </tr>\n",
       "    <tr>\n",
       "      <th>25%</th>\n",
       "      <td>10.850000</td>\n",
       "      <td>7.030000</td>\n",
       "      <td>13.880000</td>\n",
       "      <td>1.920000</td>\n",
       "      <td>48.930000</td>\n",
       "      <td>14.210000</td>\n",
       "      <td>41.900000</td>\n",
       "      <td>4.500000</td>\n",
       "      <td>55.270000</td>\n",
       "      <td>271.020000</td>\n",
       "      <td>6.000000</td>\n",
       "      <td>7802.000000</td>\n",
       "    </tr>\n",
       "    <tr>\n",
       "      <th>50%</th>\n",
       "      <td>10.980000</td>\n",
       "      <td>7.300000</td>\n",
       "      <td>14.570000</td>\n",
       "      <td>1.950000</td>\n",
       "      <td>49.400000</td>\n",
       "      <td>14.480000</td>\n",
       "      <td>44.410000</td>\n",
       "      <td>4.800000</td>\n",
       "      <td>58.360000</td>\n",
       "      <td>278.050000</td>\n",
       "      <td>11.000000</td>\n",
       "      <td>8021.000000</td>\n",
       "    </tr>\n",
       "    <tr>\n",
       "      <th>75%</th>\n",
       "      <td>11.140000</td>\n",
       "      <td>7.480000</td>\n",
       "      <td>14.970000</td>\n",
       "      <td>2.040000</td>\n",
       "      <td>50.300000</td>\n",
       "      <td>14.980000</td>\n",
       "      <td>46.070000</td>\n",
       "      <td>4.920000</td>\n",
       "      <td>60.890000</td>\n",
       "      <td>285.100000</td>\n",
       "      <td>18.000000</td>\n",
       "      <td>8122.000000</td>\n",
       "    </tr>\n",
       "    <tr>\n",
       "      <th>max</th>\n",
       "      <td>11.640000</td>\n",
       "      <td>7.960000</td>\n",
       "      <td>16.360000</td>\n",
       "      <td>2.150000</td>\n",
       "      <td>53.200000</td>\n",
       "      <td>15.670000</td>\n",
       "      <td>51.650000</td>\n",
       "      <td>5.400000</td>\n",
       "      <td>70.520000</td>\n",
       "      <td>317.000000</td>\n",
       "      <td>28.000000</td>\n",
       "      <td>8893.000000</td>\n",
       "    </tr>\n",
       "  </tbody>\n",
       "</table>\n",
       "</div>"
      ],
      "text/plain": [
       "            100m   Longueur      Poids    Hauteur       400m     110m H  \\\n",
       "count  41.000000  41.000000  41.000000  41.000000  41.000000  41.000000   \n",
       "mean   10.998049   7.260000  14.477073   1.976829  49.616341  14.605854   \n",
       "std     0.263023   0.316402   0.824428   0.088951   1.153451   0.471789   \n",
       "min    10.440000   6.610000  12.680000   1.850000  46.810000  13.970000   \n",
       "25%    10.850000   7.030000  13.880000   1.920000  48.930000  14.210000   \n",
       "50%    10.980000   7.300000  14.570000   1.950000  49.400000  14.480000   \n",
       "75%    11.140000   7.480000  14.970000   2.040000  50.300000  14.980000   \n",
       "max    11.640000   7.960000  16.360000   2.150000  53.200000  15.670000   \n",
       "\n",
       "          Disque     Perche    Javelot       1500m  Classement       Points  \n",
       "count  41.000000  41.000000  41.000000   41.000000   41.000000    41.000000  \n",
       "mean   44.325610   4.762439  58.316585  279.024878   12.121951  8005.365854  \n",
       "std     3.377845   0.278000   4.826820   11.673247    7.918949   342.385145  \n",
       "min    37.920000   4.200000  50.310000  262.100000    1.000000  7313.000000  \n",
       "25%    41.900000   4.500000  55.270000  271.020000    6.000000  7802.000000  \n",
       "50%    44.410000   4.800000  58.360000  278.050000   11.000000  8021.000000  \n",
       "75%    46.070000   4.920000  60.890000  285.100000   18.000000  8122.000000  \n",
       "max    51.650000   5.400000  70.520000  317.000000   28.000000  8893.000000  "
      ]
     },
     "execution_count": 4,
     "metadata": {},
     "output_type": "execute_result"
    }
   ],
   "source": [
    "df_decathlon.describe()"
   ]
  },
  {
   "cell_type": "markdown",
   "id": "80680a11-2d14-4408-8807-b84fc0b090d3",
   "metadata": {},
   "source": [
    "Pas de données aberrantes à première vue."
   ]
  },
  {
   "cell_type": "markdown",
   "id": "e6446834-ecd0-451e-87ef-39be14614d09",
   "metadata": {},
   "source": [
    "***\n",
    "## 1. ACP"
   ]
  },
  {
   "cell_type": "code",
   "execution_count": 7,
   "id": "4fa973dc-51af-4c15-92d6-9fa71b82d6dd",
   "metadata": {},
   "outputs": [],
   "source": [
    "from sklearn.preprocessing import StandardScaler\n",
    "from sklearn.decomposition import PCA\n",
    "from sklearn.pipeline import make_pipeline\n",
    "\n",
    "scaler = StandardScaler()\n",
    "pca = PCA()\n",
    "pipe = make_pipeline(scaler, pca)"
   ]
  },
  {
   "cell_type": "code",
   "execution_count": 109,
   "id": "8df98002-baee-4286-a08d-f18560d422a9",
   "metadata": {},
   "outputs": [
    {
     "data": {
      "text/html": [
       "<div>\n",
       "<style scoped>\n",
       "    .dataframe tbody tr th:only-of-type {\n",
       "        vertical-align: middle;\n",
       "    }\n",
       "\n",
       "    .dataframe tbody tr th {\n",
       "        vertical-align: top;\n",
       "    }\n",
       "\n",
       "    .dataframe thead th {\n",
       "        text-align: right;\n",
       "    }\n",
       "</style>\n",
       "<table border=\"1\" class=\"dataframe\">\n",
       "  <thead>\n",
       "    <tr style=\"text-align: right;\">\n",
       "      <th></th>\n",
       "      <th>PC1</th>\n",
       "      <th>PC2</th>\n",
       "      <th>PC3</th>\n",
       "      <th>PC4</th>\n",
       "      <th>PC5</th>\n",
       "      <th>PC6</th>\n",
       "      <th>PC7</th>\n",
       "      <th>PC8</th>\n",
       "      <th>PC9</th>\n",
       "      <th>PC10</th>\n",
       "    </tr>\n",
       "  </thead>\n",
       "  <tbody>\n",
       "    <tr>\n",
       "      <th>0</th>\n",
       "      <td>4.038449</td>\n",
       "      <td>1.365826</td>\n",
       "      <td>-0.289957</td>\n",
       "      <td>1.941134</td>\n",
       "      <td>-0.376955</td>\n",
       "      <td>0.067786</td>\n",
       "      <td>-0.554977</td>\n",
       "      <td>-0.752596</td>\n",
       "      <td>0.062225</td>\n",
       "      <td>0.633131</td>\n",
       "    </tr>\n",
       "    <tr>\n",
       "      <th>1</th>\n",
       "      <td>3.919365</td>\n",
       "      <td>0.836961</td>\n",
       "      <td>0.231175</td>\n",
       "      <td>1.493972</td>\n",
       "      <td>1.037609</td>\n",
       "      <td>-0.812650</td>\n",
       "      <td>-0.867515</td>\n",
       "      <td>-0.302845</td>\n",
       "      <td>-0.013215</td>\n",
       "      <td>-0.818729</td>\n",
       "    </tr>\n",
       "    <tr>\n",
       "      <th>2</th>\n",
       "      <td>4.619987</td>\n",
       "      <td>0.039995</td>\n",
       "      <td>-0.041586</td>\n",
       "      <td>-1.313526</td>\n",
       "      <td>-0.187730</td>\n",
       "      <td>0.741611</td>\n",
       "      <td>-0.454143</td>\n",
       "      <td>1.070842</td>\n",
       "      <td>-0.180315</td>\n",
       "      <td>0.124575</td>\n",
       "    </tr>\n",
       "    <tr>\n",
       "      <th>3</th>\n",
       "      <td>2.233461</td>\n",
       "      <td>1.041766</td>\n",
       "      <td>-1.864362</td>\n",
       "      <td>-0.743214</td>\n",
       "      <td>-0.977270</td>\n",
       "      <td>-0.040017</td>\n",
       "      <td>-0.192708</td>\n",
       "      <td>0.689743</td>\n",
       "      <td>0.438425</td>\n",
       "      <td>-0.166834</td>\n",
       "    </tr>\n",
       "    <tr>\n",
       "      <th>4</th>\n",
       "      <td>2.168396</td>\n",
       "      <td>-1.803200</td>\n",
       "      <td>0.851017</td>\n",
       "      <td>-0.284600</td>\n",
       "      <td>0.151395</td>\n",
       "      <td>-0.079388</td>\n",
       "      <td>0.061003</td>\n",
       "      <td>0.214545</td>\n",
       "      <td>0.167392</td>\n",
       "      <td>0.082692</td>\n",
       "    </tr>\n",
       "  </tbody>\n",
       "</table>\n",
       "</div>"
      ],
      "text/plain": [
       "        PC1       PC2       PC3       PC4       PC5       PC6       PC7  \\\n",
       "0  4.038449  1.365826 -0.289957  1.941134 -0.376955  0.067786 -0.554977   \n",
       "1  3.919365  0.836961  0.231175  1.493972  1.037609 -0.812650 -0.867515   \n",
       "2  4.619987  0.039995 -0.041586 -1.313526 -0.187730  0.741611 -0.454143   \n",
       "3  2.233461  1.041766 -1.864362 -0.743214 -0.977270 -0.040017 -0.192708   \n",
       "4  2.168396 -1.803200  0.851017 -0.284600  0.151395 -0.079388  0.061003   \n",
       "\n",
       "        PC8       PC9      PC10  \n",
       "0 -0.752596  0.062225  0.633131  \n",
       "1 -0.302845 -0.013215 -0.818729  \n",
       "2  1.070842 -0.180315  0.124575  \n",
       "3  0.689743  0.438425 -0.166834  \n",
       "4  0.214545  0.167392  0.082692  "
      ]
     },
     "execution_count": 109,
     "metadata": {},
     "output_type": "execute_result"
    }
   ],
   "source": [
    "features = df_decathlon.iloc[:,1:11]\n",
    "features_trans = pipe.fit_transform(features)\n",
    "features_trans = pd.DataFrame(features_trans, columns=['PC'+str(i) for i in range(1,11)])\n",
    "features_trans.head()"
   ]
  },
  {
   "cell_type": "markdown",
   "id": "d54d6c4b-3a59-4a9b-8672-ead4ced92dbc",
   "metadata": {},
   "source": [
    "### Variance expliquée par chaque PC"
   ]
  },
  {
   "cell_type": "code",
   "execution_count": 13,
   "id": "14ba5eaf-c57e-41e6-8523-01c03800324c",
   "metadata": {},
   "outputs": [
    {
     "data": {
      "text/html": [
       "<div>\n",
       "<style scoped>\n",
       "    .dataframe tbody tr th:only-of-type {\n",
       "        vertical-align: middle;\n",
       "    }\n",
       "\n",
       "    .dataframe tbody tr th {\n",
       "        vertical-align: top;\n",
       "    }\n",
       "\n",
       "    .dataframe thead th {\n",
       "        text-align: right;\n",
       "    }\n",
       "</style>\n",
       "<table border=\"1\" class=\"dataframe\">\n",
       "  <thead>\n",
       "    <tr style=\"text-align: right;\">\n",
       "      <th></th>\n",
       "      <th>Valeur propre</th>\n",
       "      <th>% Variance</th>\n",
       "      <th>% Variance cumulée</th>\n",
       "    </tr>\n",
       "    <tr>\n",
       "      <th>Composante</th>\n",
       "      <th></th>\n",
       "      <th></th>\n",
       "      <th></th>\n",
       "    </tr>\n",
       "  </thead>\n",
       "  <tbody>\n",
       "    <tr>\n",
       "      <th>PC1</th>\n",
       "      <td>3.35</td>\n",
       "      <td>0.33</td>\n",
       "      <td>0.33</td>\n",
       "    </tr>\n",
       "    <tr>\n",
       "      <th>PC2</th>\n",
       "      <td>1.78</td>\n",
       "      <td>0.17</td>\n",
       "      <td>0.50</td>\n",
       "    </tr>\n",
       "    <tr>\n",
       "      <th>PC3</th>\n",
       "      <td>1.44</td>\n",
       "      <td>0.14</td>\n",
       "      <td>0.64</td>\n",
       "    </tr>\n",
       "    <tr>\n",
       "      <th>PC4</th>\n",
       "      <td>1.08</td>\n",
       "      <td>0.11</td>\n",
       "      <td>0.75</td>\n",
       "    </tr>\n",
       "    <tr>\n",
       "      <th>PC5</th>\n",
       "      <td>0.70</td>\n",
       "      <td>0.07</td>\n",
       "      <td>0.82</td>\n",
       "    </tr>\n",
       "    <tr>\n",
       "      <th>PC6</th>\n",
       "      <td>0.61</td>\n",
       "      <td>0.06</td>\n",
       "      <td>0.88</td>\n",
       "    </tr>\n",
       "    <tr>\n",
       "      <th>PC7</th>\n",
       "      <td>0.46</td>\n",
       "      <td>0.05</td>\n",
       "      <td>0.92</td>\n",
       "    </tr>\n",
       "    <tr>\n",
       "      <th>PC8</th>\n",
       "      <td>0.41</td>\n",
       "      <td>0.04</td>\n",
       "      <td>0.96</td>\n",
       "    </tr>\n",
       "    <tr>\n",
       "      <th>PC9</th>\n",
       "      <td>0.22</td>\n",
       "      <td>0.02</td>\n",
       "      <td>0.98</td>\n",
       "    </tr>\n",
       "    <tr>\n",
       "      <th>PC10</th>\n",
       "      <td>0.19</td>\n",
       "      <td>0.02</td>\n",
       "      <td>1.00</td>\n",
       "    </tr>\n",
       "  </tbody>\n",
       "</table>\n",
       "</div>"
      ],
      "text/plain": [
       "            Valeur propre  % Variance  % Variance cumulée\n",
       "Composante                                               \n",
       "PC1                  3.35        0.33                0.33\n",
       "PC2                  1.78        0.17                0.50\n",
       "PC3                  1.44        0.14                0.64\n",
       "PC4                  1.08        0.11                0.75\n",
       "PC5                  0.70        0.07                0.82\n",
       "PC6                  0.61        0.06                0.88\n",
       "PC7                  0.46        0.05                0.92\n",
       "PC8                  0.41        0.04                0.96\n",
       "PC9                  0.22        0.02                0.98\n",
       "PC10                 0.19        0.02                1.00"
      ]
     },
     "execution_count": 13,
     "metadata": {},
     "output_type": "execute_result"
    }
   ],
   "source": [
    "caract_pc = pd.DataFrame({'Composante':['PC'+str(i) for i in range(1,11)], 'Valeur propre' : np.round(pca.explained_variance_,2),\n",
    "                         '% Variance' : np.round(pca.explained_variance_ratio_,2), '% Variance cumulée' : np.round(np.cumsum(pca.explained_variance_ratio_),2)})\n",
    "\n",
    "caract_pc.set_index('Composante')"
   ]
  },
  {
   "cell_type": "markdown",
   "id": "1486107b-ab90-4645-8059-250e1387b009",
   "metadata": {},
   "source": [
    "### Scree plot"
   ]
  },
  {
   "cell_type": "code",
   "execution_count": 39,
   "id": "c881f8f0-c9ca-41e2-8e49-a2421d9b6823",
   "metadata": {},
   "outputs": [
    {
     "data": {
      "image/png": "[encoded data removed]",
      "text/plain": [
       "<Figure size 500x500 with 2 Axes>"
      ]
     },
     "metadata": {},
     "output_type": "display_data"
    }
   ],
   "source": [
    "import matplotlib.pyplot as plt\n",
    "# Changement de police des graphiques\n",
    "plt.rc('font', family = 'serif', serif = 'cmr10')\n",
    "plt.rcParams.update({\"text.usetex\": True, \"axes.formatter.use_mathtext\" : True})\n",
    "\n",
    "fig, ax = plt.subplots(figsize=(5,5))\n",
    "\n",
    "ax.axhline(10, linestyle=\"--\", color='black', linewidth=0.5)\n",
    "ax.bar(np.arange(1,11,1), caract_pc['% Variance']*100, color='tab:blue')\n",
    "ax.set_xticks(np.arange(1,11,1), caract_pc['Composante'])\n",
    "plt.title(\"Pourcentage de variance expliquée par chaque composante principale\")\n",
    "ax.set_xlabel(\"Composante principale\")\n",
    "ax.set_ylabel(\"Pourcentage de variance expliquée\")\n",
    "#Deuxième axe pour les pourcentages cumulés\n",
    "ax2 = ax.twinx()\n",
    "ax2.set_ylabel('Pourcentages cumulés', color='tab:red')\n",
    "ax2.tick_params(axis='y', color='tab:red', labelcolor='tab:red')\n",
    "ax2.set_ylim(0,100)\n",
    "ax2.plot(np.arange(1,11,1), caract_pc['% Variance cumulée']*100, color='tab:red', marker='x')\n",
    "\n",
    "plt.show()"
   ]
  },
  {
   "cell_type": "markdown",
   "id": "4bf48994-8b3e-43f0-9d28-01e59129ce04",
   "metadata": {},
   "source": [
    "Il n'y a pas de coude \"franc\" visuellement parlant. Pour une utilisation ultérieure, il semble que 5 composantes principales soit un bon choix.\n",
    "\n",
    "Si on ne garde que les composantes dont la part de variance expliquée est supérieure à 10 % (100/10 = 10 %), on ne garde que 4 composantes.\n",
    "\n",
    "### Cercle de corrélations selon PC1 et PC2"
   ]
  },
  {
   "cell_type": "code",
   "execution_count": 12,
   "id": "485fab27-a905-416b-b3e3-a3b68d59dd2d",
   "metadata": {},
   "outputs": [
    {
     "data": {
      "text/html": [
       "<div>\n",
       "<style scoped>\n",
       "    .dataframe tbody tr th:only-of-type {\n",
       "        vertical-align: middle;\n",
       "    }\n",
       "\n",
       "    .dataframe tbody tr th {\n",
       "        vertical-align: top;\n",
       "    }\n",
       "\n",
       "    .dataframe thead th {\n",
       "        text-align: right;\n",
       "    }\n",
       "</style>\n",
       "<table border=\"1\" class=\"dataframe\">\n",
       "  <thead>\n",
       "    <tr style=\"text-align: right;\">\n",
       "      <th></th>\n",
       "      <th>PC1</th>\n",
       "      <th>PC2</th>\n",
       "      <th>PC3</th>\n",
       "      <th>PC4</th>\n",
       "      <th>PC5</th>\n",
       "      <th>PC6</th>\n",
       "      <th>PC7</th>\n",
       "      <th>PC8</th>\n",
       "      <th>PC9</th>\n",
       "      <th>PC10</th>\n",
       "    </tr>\n",
       "  </thead>\n",
       "  <tbody>\n",
       "    <tr>\n",
       "      <th>100m</th>\n",
       "      <td>-0.784344</td>\n",
       "      <td>0.189467</td>\n",
       "      <td>-0.186698</td>\n",
       "      <td>-0.038288</td>\n",
       "      <td>-0.305951</td>\n",
       "      <td>0.232048</td>\n",
       "      <td>-0.259640</td>\n",
       "      <td>-0.294413</td>\n",
       "      <td>0.049156</td>\n",
       "      <td>0.183368</td>\n",
       "    </tr>\n",
       "    <tr>\n",
       "      <th>Longueur</th>\n",
       "      <td>0.751116</td>\n",
       "      <td>-0.349712</td>\n",
       "      <td>0.184475</td>\n",
       "      <td>0.103050</td>\n",
       "      <td>-0.037134</td>\n",
       "      <td>-0.239923</td>\n",
       "      <td>-0.426885</td>\n",
       "      <td>0.013401</td>\n",
       "      <td>0.226487</td>\n",
       "      <td>0.035026</td>\n",
       "    </tr>\n",
       "    <tr>\n",
       "      <th>Poids</th>\n",
       "      <td>0.630236</td>\n",
       "      <td>0.605736</td>\n",
       "      <td>-0.023669</td>\n",
       "      <td>0.192959</td>\n",
       "      <td>-0.112532</td>\n",
       "      <td>0.239412</td>\n",
       "      <td>0.210640</td>\n",
       "      <td>0.200227</td>\n",
       "      <td>0.200501</td>\n",
       "      <td>0.168675</td>\n",
       "    </tr>\n",
       "    <tr>\n",
       "      <th>Hauteur</th>\n",
       "      <td>0.579050</td>\n",
       "      <td>0.354645</td>\n",
       "      <td>-0.262736</td>\n",
       "      <td>-0.137279</td>\n",
       "      <td>-0.562340</td>\n",
       "      <td>-0.366612</td>\n",
       "      <td>0.062194</td>\n",
       "      <td>-0.079784</td>\n",
       "      <td>-0.114335</td>\n",
       "      <td>-0.045996</td>\n",
       "    </tr>\n",
       "    <tr>\n",
       "      <th>400m</th>\n",
       "      <td>-0.688053</td>\n",
       "      <td>0.576512</td>\n",
       "      <td>0.133103</td>\n",
       "      <td>0.029666</td>\n",
       "      <td>0.088781</td>\n",
       "      <td>-0.260611</td>\n",
       "      <td>0.084617</td>\n",
       "      <td>-0.136107</td>\n",
       "      <td>0.259081</td>\n",
       "      <td>-0.178922</td>\n",
       "    </tr>\n",
       "    <tr>\n",
       "      <th>110m H</th>\n",
       "      <td>-0.755516</td>\n",
       "      <td>0.231636</td>\n",
       "      <td>-0.093788</td>\n",
       "      <td>0.294444</td>\n",
       "      <td>-0.166362</td>\n",
       "      <td>-0.078090</td>\n",
       "      <td>-0.243015</td>\n",
       "      <td>0.453554</td>\n",
       "      <td>-0.070449</td>\n",
       "      <td>-0.039270</td>\n",
       "    </tr>\n",
       "    <tr>\n",
       "      <th>Disque</th>\n",
       "      <td>0.559330</td>\n",
       "      <td>0.613846</td>\n",
       "      <td>0.043486</td>\n",
       "      <td>-0.262897</td>\n",
       "      <td>0.106129</td>\n",
       "      <td>0.352192</td>\n",
       "      <td>-0.292362</td>\n",
       "      <td>-0.024485</td>\n",
       "      <td>-0.072642</td>\n",
       "      <td>-0.194122</td>\n",
       "    </tr>\n",
       "    <tr>\n",
       "      <th>Perche</th>\n",
       "      <td>0.050967</td>\n",
       "      <td>-0.182597</td>\n",
       "      <td>0.700350</td>\n",
       "      <td>0.558386</td>\n",
       "      <td>-0.334058</td>\n",
       "      <td>0.205077</td>\n",
       "      <td>0.066621</td>\n",
       "      <td>-0.113554</td>\n",
       "      <td>-0.038936</td>\n",
       "      <td>-0.119478</td>\n",
       "    </tr>\n",
       "    <tr>\n",
       "      <th>Javelot</th>\n",
       "      <td>0.280553</td>\n",
       "      <td>0.320927</td>\n",
       "      <td>-0.394496</td>\n",
       "      <td>0.721126</td>\n",
       "      <td>0.308919</td>\n",
       "      <td>-0.127909</td>\n",
       "      <td>-0.072596</td>\n",
       "      <td>-0.188882</td>\n",
       "      <td>-0.116055</td>\n",
       "      <td>0.037934</td>\n",
       "    </tr>\n",
       "    <tr>\n",
       "      <th>1500m</th>\n",
       "      <td>-0.058799</td>\n",
       "      <td>0.480115</td>\n",
       "      <td>0.791859</td>\n",
       "      <td>-0.163090</td>\n",
       "      <td>0.155470</td>\n",
       "      <td>-0.233766</td>\n",
       "      <td>-0.056875</td>\n",
       "      <td>-0.008749</td>\n",
       "      <td>-0.144401</td>\n",
       "      <td>0.185507</td>\n",
       "    </tr>\n",
       "  </tbody>\n",
       "</table>\n",
       "</div>"
      ],
      "text/plain": [
       "               PC1       PC2       PC3       PC4       PC5       PC6  \\\n",
       "100m     -0.784344  0.189467 -0.186698 -0.038288 -0.305951  0.232048   \n",
       "Longueur  0.751116 -0.349712  0.184475  0.103050 -0.037134 -0.239923   \n",
       "Poids     0.630236  0.605736 -0.023669  0.192959 -0.112532  0.239412   \n",
       "Hauteur   0.579050  0.354645 -0.262736 -0.137279 -0.562340 -0.366612   \n",
       "400m     -0.688053  0.576512  0.133103  0.029666  0.088781 -0.260611   \n",
       "110m H   -0.755516  0.231636 -0.093788  0.294444 -0.166362 -0.078090   \n",
       "Disque    0.559330  0.613846  0.043486 -0.262897  0.106129  0.352192   \n",
       "Perche    0.050967 -0.182597  0.700350  0.558386 -0.334058  0.205077   \n",
       "Javelot   0.280553  0.320927 -0.394496  0.721126  0.308919 -0.127909   \n",
       "1500m    -0.058799  0.480115  0.791859 -0.163090  0.155470 -0.233766   \n",
       "\n",
       "               PC7       PC8       PC9      PC10  \n",
       "100m     -0.259640 -0.294413  0.049156  0.183368  \n",
       "Longueur -0.426885  0.013401  0.226487  0.035026  \n",
       "Poids     0.210640  0.200227  0.200501  0.168675  \n",
       "Hauteur   0.062194 -0.079784 -0.114335 -0.045996  \n",
       "400m      0.084617 -0.136107  0.259081 -0.178922  \n",
       "110m H   -0.243015  0.453554 -0.070449 -0.039270  \n",
       "Disque   -0.292362 -0.024485 -0.072642 -0.194122  \n",
       "Perche    0.066621 -0.113554 -0.038936 -0.119478  \n",
       "Javelot  -0.072596 -0.188882 -0.116055  0.037934  \n",
       "1500m    -0.056875 -0.008749 -0.144401  0.185507  "
      ]
     },
     "execution_count": 12,
     "metadata": {},
     "output_type": "execute_result"
    }
   ],
   "source": [
    "# Calcul des saturations des variables sur les PC\n",
    "saturations = pd.DataFrame(pca.components_.T*np.sqrt(pca.explained_variance_),\n",
    "                           columns=['PC'+str(i) for i in range(1,11)],\n",
    "                           index=df_decathlon.columns[1:11])\n",
    "saturations"
   ]
  },
  {
   "cell_type": "code",
   "execution_count": 130,
   "id": "edf43b4b-6c78-4ca2-a7bf-bdc9922376df",
   "metadata": {},
   "outputs": [],
   "source": [
    "# saturations de classement et points sur les composantes PC1 et PC2\n",
    "scaler = StandardScaler()\n",
    "resultats_stand = pd.DataFrame(scaler.fit_transform(df_decathlon[['Classement','Points']]), columns=['Classement','Points'])\n",
    "sat_class_pc1 = np.corrcoef(features_trans.iloc[:,0], df_decathlon['Classement'])[0,1]\n",
    "sat_class_pc2 = np.corrcoef(features_trans.iloc[:,1], df_decathlon['Classement'])[0,1]\n",
    "sat_class_pc3 = np.corrcoef(features_trans.iloc[:,2], df_decathlon['Classement'])[0,1]\n",
    "sat_pts_pc1 = np.corrcoef(features_trans.iloc[:,0], df_decathlon['Points'])[0,1]\n",
    "sat_pts_pc2 = np.corrcoef(features_trans.iloc[:,1], df_decathlon['Points'])[0,1]\n",
    "sat_pts_pc3 = np.corrcoef(features_trans.iloc[:,2], df_decathlon['Points'])[0,1]"
   ]
  },
  {
   "cell_type": "code",
   "execution_count": 43,
   "id": "952b440a-9d38-498f-bd3e-255abef5e8ef",
   "metadata": {},
   "outputs": [
    {
     "data": {
      "text/plain": [
       "100m        0.651093\n",
       "Longueur    0.686474\n",
       "Poids       0.764113\n",
       "Hauteur     0.461073\n",
       "400m        0.805782\n",
       "110m H      0.624459\n",
       "Disque      0.689656\n",
       "Perche      0.035939\n",
       "Javelot     0.181704\n",
       "1500m       0.233968\n",
       "dtype: float64"
      ]
     },
     "execution_count": 43,
     "metadata": {},
     "output_type": "execute_result"
    }
   ],
   "source": [
    "# Calcul des cos2\n",
    "cos2 = saturations**2\n",
    "cos2_pc12 = cos2['PC1']+cos2['PC2']\n",
    "cos2_pc12"
   ]
  },
  {
   "cell_type": "code",
   "execution_count": 44,
   "id": "4c797beb-03f2-4e78-962c-5dc1850ea3b6",
   "metadata": {},
   "outputs": [
    {
     "data": {
      "text/html": [
       "<div>\n",
       "<style scoped>\n",
       "    .dataframe tbody tr th:only-of-type {\n",
       "        vertical-align: middle;\n",
       "    }\n",
       "\n",
       "    .dataframe tbody tr th {\n",
       "        vertical-align: top;\n",
       "    }\n",
       "\n",
       "    .dataframe thead th {\n",
       "        text-align: right;\n",
       "    }\n",
       "</style>\n",
       "<table border=\"1\" class=\"dataframe\">\n",
       "  <thead>\n",
       "    <tr style=\"text-align: right;\">\n",
       "      <th></th>\n",
       "      <th>cos2</th>\n",
       "      <th>couleur</th>\n",
       "    </tr>\n",
       "  </thead>\n",
       "  <tbody>\n",
       "    <tr>\n",
       "      <th>100m</th>\n",
       "      <td>0.651093</td>\n",
       "      <td>(0.92256581, 0.44989274, 0.00709035, 1.0)</td>\n",
       "    </tr>\n",
       "    <tr>\n",
       "      <th>Longueur</th>\n",
       "      <td>0.686474</td>\n",
       "      <td>(0.93644377, 0.51408422, 0.00577811, 1.0)</td>\n",
       "    </tr>\n",
       "    <tr>\n",
       "      <th>Poids</th>\n",
       "      <td>0.764113</td>\n",
       "      <td>(0.9532101, 0.64271996, 0.06919261, 1.0)</td>\n",
       "    </tr>\n",
       "    <tr>\n",
       "      <th>Hauteur</th>\n",
       "      <td>0.461073</td>\n",
       "      <td>(0.78144269, 0.10756477, 0.167764, 1.0)</td>\n",
       "    </tr>\n",
       "    <tr>\n",
       "      <th>400m</th>\n",
       "      <td>0.805782</td>\n",
       "      <td>(0.95597639, 0.71428878, 0.11967526, 1.0)</td>\n",
       "    </tr>\n",
       "    <tr>\n",
       "      <th>110m H</th>\n",
       "      <td>0.624459</td>\n",
       "      <td>(0.91066237, 0.40470882, 0.01887928, 1.0)</td>\n",
       "    </tr>\n",
       "    <tr>\n",
       "      <th>Disque</th>\n",
       "      <td>0.689656</td>\n",
       "      <td>(0.93644377, 0.51408422, 0.00577811, 1.0)</td>\n",
       "    </tr>\n",
       "    <tr>\n",
       "      <th>Perche</th>\n",
       "      <td>0.035939</td>\n",
       "      <td>(0.07642223, 0.04959208, 0.10530298, 1.0)</td>\n",
       "    </tr>\n",
       "    <tr>\n",
       "      <th>Javelot</th>\n",
       "      <td>0.181704</td>\n",
       "      <td>(0.31214195, 0.10225778, 0.24249139, 1.0)</td>\n",
       "    </tr>\n",
       "    <tr>\n",
       "      <th>1500m</th>\n",
       "      <td>0.233968</td>\n",
       "      <td>(0.39720948, 0.10190626, 0.26456809, 1.0)</td>\n",
       "    </tr>\n",
       "  </tbody>\n",
       "</table>\n",
       "</div>"
      ],
      "text/plain": [
       "              cos2                                    couleur\n",
       "100m      0.651093  (0.92256581, 0.44989274, 0.00709035, 1.0)\n",
       "Longueur  0.686474  (0.93644377, 0.51408422, 0.00577811, 1.0)\n",
       "Poids     0.764113   (0.9532101, 0.64271996, 0.06919261, 1.0)\n",
       "Hauteur   0.461073    (0.78144269, 0.10756477, 0.167764, 1.0)\n",
       "400m      0.805782  (0.95597639, 0.71428878, 0.11967526, 1.0)\n",
       "110m H    0.624459  (0.91066237, 0.40470882, 0.01887928, 1.0)\n",
       "Disque    0.689656  (0.93644377, 0.51408422, 0.00577811, 1.0)\n",
       "Perche    0.035939  (0.07642223, 0.04959208, 0.10530298, 1.0)\n",
       "Javelot   0.181704  (0.31214195, 0.10225778, 0.24249139, 1.0)\n",
       "1500m     0.233968  (0.39720948, 0.10190626, 0.26456809, 1.0)"
      ]
     },
     "execution_count": 44,
     "metadata": {},
     "output_type": "execute_result"
    }
   ],
   "source": [
    "#Echelle de couleurs pour représenter les cos2\n",
    "import cmasher as cmr\n",
    "import matplotlib.colors as mcolors\n",
    "\n",
    "cmap = cmr.get_sub_cmap('cmr.ember', 0.1, 0.9)\n",
    "norm = mcolors.Normalize(vmin=np.min(cos2_pc12), vmax=np.max(cos2_pc12))\n",
    "color=[]\n",
    "for i in range(len(cos2_pc12)):\n",
    "    color.append(cmap(norm(cos2_pc12[i])))\n",
    "df_cos2=pd.DataFrame({'cos2':cos2_pc12, 'couleur':color})\n",
    "df_cos2"
   ]
  },
  {
   "cell_type": "code",
   "execution_count": 140,
   "id": "ae8d273e-7e1d-42d4-b218-5550e1fca196",
   "metadata": {},
   "outputs": [
    {
     "data": {
      "image/png": "[encoded data removed]",
      "text/plain": [
       "<Figure size 700x700 with 2 Axes>"
      ]
     },
     "metadata": {},
     "output_type": "display_data"
    }
   ],
   "source": [
    "# Représentation par un cercle de corrélation\n",
    "fig, ax = plt.subplots(figsize=(7,7))\n",
    "ax.set_aspect('equal')\n",
    "# Tracer les axes\n",
    "plt.axhline(y=0, color='black', linewidth=1, linestyle='--')\n",
    "plt.axvline(x=0, color='black', linewidth=1, linestyle='--')\n",
    "\n",
    "# Tracer le cercle de rayon 1\n",
    "circle = plt.Circle((0,0),1, edgecolor='black', facecolor='white')\n",
    "ax.add_artist(circle)\n",
    "\n",
    "# Représentation des vecteurs\n",
    "for i in range(saturations.shape[0]):\n",
    "    x = saturations.iloc[i,0] # coord de la var i selon PC1\n",
    "    y = saturations.iloc[i,1] # coord de la var i selon PC2\n",
    "    feature = saturations.index[i] # nom de la var i\n",
    "    \n",
    "    ax.arrow(0,0,  #départ flèche\n",
    "         x,y,  #fin flèche\n",
    "         head_width=0.05,\n",
    "         head_length=0.05,\n",
    "         color=df_cos2.iloc[i,1],\n",
    "         length_includes_head=True\n",
    "        )\n",
    "    if feature!='Poids':\n",
    "        if x>0:\n",
    "            ax.text(x+0.05, y+0.05, feature)\n",
    "        else:\n",
    "            ax.text(x-0.15, y+0.05, feature)\n",
    "    else :\n",
    "        ax.text(x+0.05,y-0.05, feature)\n",
    "\n",
    "# Vecteur de classement\n",
    "ax.arrow(0,0,  #départ flèche\n",
    "         sat_class_pc1, sat_class_pc2,  #fin flèche\n",
    "         head_width=0.05,\n",
    "         head_length=0.05,\n",
    "         color='tab:blue',\n",
    "         length_includes_head=True\n",
    "        )\n",
    "ax.text(sat_class_pc1-0.35, sat_class_pc2, 'Classement', color='tab:blue')\n",
    "\n",
    "# Vecteur de points\n",
    "ax.arrow(0,0,  #départ flèche\n",
    "         sat_pts_pc1, sat_pts_pc2,  #fin flèche\n",
    "         head_width=0.05,\n",
    "         head_length=0.05,\n",
    "         color='tab:blue',\n",
    "         length_includes_head=True\n",
    "        )\n",
    "ax.text(sat_pts_pc1-0.2, sat_pts_pc2-0.08, 'Points', color='tab:blue')\n",
    "\n",
    "#legende des couleurs\n",
    "sm = plt.cm.ScalarMappable(cmap=cmap)\n",
    "sm.set_clim(vmin=np.min(cos2_pc12), vmax=np.max(cos2_pc12))\n",
    "plt.colorbar(sm, label=\"cos2\",  shrink=0.4,orientation='vertical',pad=0.1, ax=ax)\n",
    "        \n",
    "# labels et titres\n",
    "plt.xlim(-1.2,1.2)\n",
    "plt.ylim(-1.2,1.2)\n",
    "plt.xticks([i for i in np.arange(-1,1.5,0.5)], [str(i) for i in np.arange(-1,1.5,0.5)])\n",
    "plt.yticks([i for i in np.arange(-1,1.5,0.5)], [str(i) for i in np.arange(-1,1.5,0.5)])\n",
    "plt.xlabel('PC1 ('+ str(round(pca.explained_variance_ratio_[0]*100,2)) + ' \\%)')\n",
    "plt.ylabel('PC2 ('+ str(round(pca.explained_variance_ratio_[1]*100,2)) + ' \\%)')\n",
    "plt.title('Cercle de corrélation des variables du jeu de données Decathlon')\n",
    "plt.tight_layout()\n",
    "plt.show()"
   ]
  },
  {
   "cell_type": "markdown",
   "id": "5e0b6d20-30a5-4527-a08f-95479eb3ea35",
   "metadata": {},
   "source": [
    "- Les varaibles les mieux représentées sur le plan factorielle (PC1, PC2) sont le 400m, le lancer du poids, le lancer du disque, le saut en longueur et les 100m et 110m haies.\n",
    "\n",
    "- Appelons groupe 1 les disciplines suivantes : disque, poids, hauteur, javelot. Appelons groupe 2 les disciplines suivantes : 400m, 100m, 110m haies, longueur.\n",
    "    - Les variables du groupe 1 ont une bonne corrélation entre elles.\n",
    "    - Les variables du groupe 2 aussi.\n",
    "    - En revanche les variables du groupe 1 sont très peu corrélées avec les variables du groupe 2.\n",
    "    \n",
    "- Les athlètes ayant eu une meilleure performance sur les épreuves de lancers ou de saut en longueur ont fini avec plus de points que ceux qui ont eu de bonnes performances aux courses de sprint et de 400m."
   ]
  },
  {
   "cell_type": "markdown",
   "id": "f2ff2088-327a-41a1-a68d-f5e712937eed",
   "metadata": {},
   "source": [
    "### Cercle de corrélations selon PC1 et PC3"
   ]
  },
  {
   "cell_type": "code",
   "execution_count": 53,
   "id": "5bacb966-59c8-4a40-ac8c-3a38a912c504",
   "metadata": {},
   "outputs": [
    {
     "data": {
      "text/plain": [
       "100m        0.650052\n",
       "Longueur    0.598207\n",
       "Poids       0.397757\n",
       "Hauteur     0.404330\n",
       "400m        0.491133\n",
       "110m H      0.579600\n",
       "Disque      0.314741\n",
       "Perche      0.493088\n",
       "Javelot     0.234337\n",
       "1500m       0.630498\n",
       "dtype: float64"
      ]
     },
     "execution_count": 53,
     "metadata": {},
     "output_type": "execute_result"
    }
   ],
   "source": [
    "# Calcul des cos2\n",
    "cos2_pc13 = cos2['PC1']+cos2['PC3']\n",
    "cos2_pc13"
   ]
  },
  {
   "cell_type": "code",
   "execution_count": 54,
   "id": "456d4bb6-1a58-44d5-a8ca-aad11b4da45b",
   "metadata": {},
   "outputs": [
    {
     "data": {
      "text/html": [
       "<div>\n",
       "<style scoped>\n",
       "    .dataframe tbody tr th:only-of-type {\n",
       "        vertical-align: middle;\n",
       "    }\n",
       "\n",
       "    .dataframe tbody tr th {\n",
       "        vertical-align: top;\n",
       "    }\n",
       "\n",
       "    .dataframe thead th {\n",
       "        text-align: right;\n",
       "    }\n",
       "</style>\n",
       "<table border=\"1\" class=\"dataframe\">\n",
       "  <thead>\n",
       "    <tr style=\"text-align: right;\">\n",
       "      <th></th>\n",
       "      <th>cos2</th>\n",
       "      <th>couleur</th>\n",
       "    </tr>\n",
       "  </thead>\n",
       "  <tbody>\n",
       "    <tr>\n",
       "      <th>100m</th>\n",
       "      <td>0.650052</td>\n",
       "      <td>(0.95597639, 0.71428878, 0.11967526, 1.0)</td>\n",
       "    </tr>\n",
       "    <tr>\n",
       "      <th>Longueur</th>\n",
       "      <td>0.598207</td>\n",
       "      <td>(0.9430235, 0.55256245, 0.01530913, 1.0)</td>\n",
       "    </tr>\n",
       "    <tr>\n",
       "      <th>Poids</th>\n",
       "      <td>0.397757</td>\n",
       "      <td>(0.58606325, 0.06424367, 0.26430788, 1.0)</td>\n",
       "    </tr>\n",
       "    <tr>\n",
       "      <th>Hauteur</th>\n",
       "      <td>0.404330</td>\n",
       "      <td>(0.61281759, 0.05501854, 0.2580046, 1.0)</td>\n",
       "    </tr>\n",
       "    <tr>\n",
       "      <th>400m</th>\n",
       "      <td>0.491133</td>\n",
       "      <td>(0.83584655, 0.20387208, 0.11633606, 1.0)</td>\n",
       "    </tr>\n",
       "    <tr>\n",
       "      <th>110m H</th>\n",
       "      <td>0.579600</td>\n",
       "      <td>(0.9326626, 0.49484757, 0.00407079, 1.0)</td>\n",
       "    </tr>\n",
       "    <tr>\n",
       "      <th>Disque</th>\n",
       "      <td>0.314741</td>\n",
       "      <td>(0.31214195, 0.10225778, 0.24249139, 1.0)</td>\n",
       "    </tr>\n",
       "    <tr>\n",
       "      <th>Perche</th>\n",
       "      <td>0.493088</td>\n",
       "      <td>(0.83912274, 0.21082034, 0.11285311, 1.0)</td>\n",
       "    </tr>\n",
       "    <tr>\n",
       "      <th>Javelot</th>\n",
       "      <td>0.234337</td>\n",
       "      <td>(0.07642223, 0.04959208, 0.10530298, 1.0)</td>\n",
       "    </tr>\n",
       "    <tr>\n",
       "      <th>1500m</th>\n",
       "      <td>0.630498</td>\n",
       "      <td>(0.95406283, 0.65567405, 0.07821597, 1.0)</td>\n",
       "    </tr>\n",
       "  </tbody>\n",
       "</table>\n",
       "</div>"
      ],
      "text/plain": [
       "              cos2                                    couleur\n",
       "100m      0.650052  (0.95597639, 0.71428878, 0.11967526, 1.0)\n",
       "Longueur  0.598207   (0.9430235, 0.55256245, 0.01530913, 1.0)\n",
       "Poids     0.397757  (0.58606325, 0.06424367, 0.26430788, 1.0)\n",
       "Hauteur   0.404330   (0.61281759, 0.05501854, 0.2580046, 1.0)\n",
       "400m      0.491133  (0.83584655, 0.20387208, 0.11633606, 1.0)\n",
       "110m H    0.579600   (0.9326626, 0.49484757, 0.00407079, 1.0)\n",
       "Disque    0.314741  (0.31214195, 0.10225778, 0.24249139, 1.0)\n",
       "Perche    0.493088  (0.83912274, 0.21082034, 0.11285311, 1.0)\n",
       "Javelot   0.234337  (0.07642223, 0.04959208, 0.10530298, 1.0)\n",
       "1500m     0.630498  (0.95406283, 0.65567405, 0.07821597, 1.0)"
      ]
     },
     "execution_count": 54,
     "metadata": {},
     "output_type": "execute_result"
    }
   ],
   "source": [
    "#Echelle de couleurs pour représenter les cos2\n",
    "cmap = cmr.get_sub_cmap('cmr.ember', 0.1, 0.9)\n",
    "norm = mcolors.Normalize(vmin=np.min(cos2_pc13), vmax=np.max(cos2_pc13))\n",
    "color=[]\n",
    "for i in range(len(cos2_pc13)):\n",
    "    color.append(cmap(norm(cos2_pc13[i])))\n",
    "df_cos2_13=pd.DataFrame({'cos2':cos2_pc13, 'couleur':color})\n",
    "df_cos2_13"
   ]
  },
  {
   "cell_type": "code",
   "execution_count": 141,
   "id": "c90dca02-bce5-4359-beb7-2983d4d3effa",
   "metadata": {},
   "outputs": [
    {
     "data": {
      "image/png": "[encoded data removed]",
      "text/plain": [
       "<Figure size 700x700 with 2 Axes>"
      ]
     },
     "metadata": {},
     "output_type": "display_data"
    }
   ],
   "source": [
    "# Représentation par un cercle de corrélation\n",
    "fig, ax = plt.subplots(figsize=(7,7))\n",
    "ax.set_aspect('equal')\n",
    "# Tracer les axes\n",
    "plt.axhline(y=0, color='black', linewidth=1, linestyle='--')\n",
    "plt.axvline(x=0, color='black', linewidth=1, linestyle='--')\n",
    "\n",
    "# Tracer le cercle de rayon 1\n",
    "circle = plt.Circle((0,0),1, edgecolor='black', facecolor='white')\n",
    "ax.add_artist(circle)\n",
    "\n",
    "# Représentation des vecteurs\n",
    "for i in range(saturations.shape[0]):\n",
    "    x = saturations.iloc[i,0] # coord de la var i selon PC1\n",
    "    y = saturations.iloc[i,2] # coord de la var i selon PC2\n",
    "    feature = saturations.index[i] # nom de la var i\n",
    "    \n",
    "    ax.arrow(0,0,  #départ flèche\n",
    "         x,y,  #fin flèche\n",
    "         head_width=0.05,\n",
    "         head_length=0.05,\n",
    "         color=df_cos2_13.iloc[i,1],\n",
    "         length_includes_head=True\n",
    "        )\n",
    "    if feature!='':\n",
    "        if x>0:\n",
    "            plt.text(x+0.03, y+0.03, feature)\n",
    "        else:\n",
    "            plt.text(x-0.2, y, feature)\n",
    "    else :\n",
    "        plt.text(x+0.05,y-0.05, feature)\n",
    "        \n",
    "# Vecteur de classement\n",
    "ax.arrow(0,0,  #départ flèche\n",
    "         sat_class_pc1, sat_class_pc3,  #fin flèche\n",
    "         head_width=0.05,\n",
    "         head_length=0.05,\n",
    "         color='tab:blue',\n",
    "         length_includes_head=True\n",
    "        )\n",
    "ax.text(sat_class_pc1-0.1, sat_class_pc3+0.06, 'Classement', color='tab:blue')\n",
    "\n",
    "# Vecteur de points\n",
    "ax.arrow(0,0,  #départ flèche\n",
    "         sat_pts_pc1, sat_pts_pc3,  #fin flèche\n",
    "         head_width=0.05,\n",
    "         head_length=0.05,\n",
    "         color='tab:blue',\n",
    "         length_includes_head=True\n",
    "        )\n",
    "ax.text(sat_pts_pc1-0.2, sat_pts_pc3-0.08, 'Points', color='tab:blue')\n",
    "\n",
    "#legende des couleurs\n",
    "sm = plt.cm.ScalarMappable(cmap=cmap)\n",
    "sm.set_clim(vmin=np.min(cos2_pc13), vmax=np.max(cos2_pc13))\n",
    "plt.colorbar(sm, label=\"cos2\",  shrink=0.4,orientation='vertical',pad=0.1, ax=ax)\n",
    "        \n",
    "# labels et titres\n",
    "plt.xlim(-1.2,1.2)\n",
    "plt.ylim(-1.2,1.2)\n",
    "plt.xticks([i for i in np.arange(-1,1.5,0.5)], [str(i) for i in np.arange(-1,1.5,0.5)])\n",
    "plt.yticks([i for i in np.arange(-1,1.5,0.5)], [str(i) for i in np.arange(-1,1.5,0.5)])\n",
    "plt.xlabel('PC1 ('+ str(round(pca.explained_variance_ratio_[0]*100,2)) + ' \\%)')\n",
    "plt.ylabel('PC3 ('+ str(round(pca.explained_variance_ratio_[2]*100,2)) + ' \\%)')\n",
    "plt.title('Cercle de corrélation des variables du jeu de données Decathlon')\n",
    "plt.tight_layout()\n",
    "plt.show()"
   ]
  },
  {
   "cell_type": "markdown",
   "id": "6f07b464-b78c-44cd-a93a-db9b57ce537d",
   "metadata": {},
   "source": [
    "Dans ce plan, les variables Perche et 1500 m sont bien mieux représentées. Les deux disciplines de sprint et le saut en longueur sont bien représentés aussi. En revanche les disciplines de lancers sont moins bien représentées que dans le plan (PC1, PC2).\n",
    "\n",
    "On retrouve le fait que les athlètes ayant marqué le plus de points sont ceux qui ont eu de meilleures performances aux lancers et au saut en longueur, contrairement à ceux qui ont fait une bonne performance aux sprints et au 400m."
   ]
  },
  {
   "cell_type": "markdown",
   "id": "efd4eeef-25bf-4def-bfb8-213de40d1818",
   "metadata": {},
   "source": [
    "***\n",
    "### 2. Biplot"
   ]
  },
  {
   "cell_type": "code",
   "execution_count": 100,
   "id": "a5757d4e-85a9-40a2-a91f-824396236ce9",
   "metadata": {},
   "outputs": [
    {
     "data": {
      "text/html": [
       "<div>\n",
       "<style scoped>\n",
       "    .dataframe tbody tr th:only-of-type {\n",
       "        vertical-align: middle;\n",
       "    }\n",
       "\n",
       "    .dataframe tbody tr th {\n",
       "        vertical-align: top;\n",
       "    }\n",
       "\n",
       "    .dataframe thead th {\n",
       "        text-align: right;\n",
       "    }\n",
       "</style>\n",
       "<table border=\"1\" class=\"dataframe\">\n",
       "  <thead>\n",
       "    <tr style=\"text-align: right;\">\n",
       "      <th></th>\n",
       "      <th>PC1</th>\n",
       "      <th>PC2</th>\n",
       "      <th>PC3</th>\n",
       "      <th>PC4</th>\n",
       "      <th>PC5</th>\n",
       "      <th>PC6</th>\n",
       "      <th>PC7</th>\n",
       "      <th>PC8</th>\n",
       "      <th>PC9</th>\n",
       "      <th>PC10</th>\n",
       "    </tr>\n",
       "  </thead>\n",
       "  <tbody>\n",
       "    <tr>\n",
       "      <th>0</th>\n",
       "      <td>0.695410</td>\n",
       "      <td>0.079543</td>\n",
       "      <td>0.003585</td>\n",
       "      <td>0.160666</td>\n",
       "      <td>0.006059</td>\n",
       "      <td>0.000196</td>\n",
       "      <td>0.013133</td>\n",
       "      <td>0.024151</td>\n",
       "      <td>0.000165</td>\n",
       "      <td>0.017092</td>\n",
       "    </tr>\n",
       "    <tr>\n",
       "      <th>1</th>\n",
       "      <td>0.711205</td>\n",
       "      <td>0.032432</td>\n",
       "      <td>0.002474</td>\n",
       "      <td>0.103335</td>\n",
       "      <td>0.049846</td>\n",
       "      <td>0.030575</td>\n",
       "      <td>0.034843</td>\n",
       "      <td>0.004246</td>\n",
       "      <td>0.000008</td>\n",
       "      <td>0.031034</td>\n",
       "    </tr>\n",
       "    <tr>\n",
       "      <th>2</th>\n",
       "      <td>0.851755</td>\n",
       "      <td>0.000064</td>\n",
       "      <td>0.000069</td>\n",
       "      <td>0.068851</td>\n",
       "      <td>0.001406</td>\n",
       "      <td>0.021948</td>\n",
       "      <td>0.008230</td>\n",
       "      <td>0.045760</td>\n",
       "      <td>0.001297</td>\n",
       "      <td>0.000619</td>\n",
       "    </tr>\n",
       "    <tr>\n",
       "      <th>3</th>\n",
       "      <td>0.423049</td>\n",
       "      <td>0.092039</td>\n",
       "      <td>0.294777</td>\n",
       "      <td>0.046845</td>\n",
       "      <td>0.080996</td>\n",
       "      <td>0.000136</td>\n",
       "      <td>0.003149</td>\n",
       "      <td>0.040347</td>\n",
       "      <td>0.016301</td>\n",
       "      <td>0.002360</td>\n",
       "    </tr>\n",
       "    <tr>\n",
       "      <th>4</th>\n",
       "      <td>0.529944</td>\n",
       "      <td>0.366472</td>\n",
       "      <td>0.081626</td>\n",
       "      <td>0.009129</td>\n",
       "      <td>0.002583</td>\n",
       "      <td>0.000710</td>\n",
       "      <td>0.000419</td>\n",
       "      <td>0.005188</td>\n",
       "      <td>0.003158</td>\n",
       "      <td>0.000771</td>\n",
       "    </tr>\n",
       "  </tbody>\n",
       "</table>\n",
       "</div>"
      ],
      "text/plain": [
       "        PC1       PC2       PC3       PC4       PC5       PC6       PC7  \\\n",
       "0  0.695410  0.079543  0.003585  0.160666  0.006059  0.000196  0.013133   \n",
       "1  0.711205  0.032432  0.002474  0.103335  0.049846  0.030575  0.034843   \n",
       "2  0.851755  0.000064  0.000069  0.068851  0.001406  0.021948  0.008230   \n",
       "3  0.423049  0.092039  0.294777  0.046845  0.080996  0.000136  0.003149   \n",
       "4  0.529944  0.366472  0.081626  0.009129  0.002583  0.000710  0.000419   \n",
       "\n",
       "        PC8       PC9      PC10  \n",
       "0  0.024151  0.000165  0.017092  \n",
       "1  0.004246  0.000008  0.031034  \n",
       "2  0.045760  0.001297  0.000619  \n",
       "3  0.040347  0.016301  0.002360  \n",
       "4  0.005188  0.003158  0.000771  "
      ]
     },
     "execution_count": 100,
     "metadata": {},
     "output_type": "execute_result"
    }
   ],
   "source": [
    "cos2_indiv = ((features_trans**2)\n",
    "              .divide(((features_trans**2)\n",
    "                       .sum(axis=1)),axis=0)\n",
    "             )\n",
    "cos2_indiv.head()"
   ]
  },
  {
   "cell_type": "code",
   "execution_count": 101,
   "id": "bbc3d34e-bd18-477a-aece-ff01c243a73c",
   "metadata": {},
   "outputs": [],
   "source": [
    "cos2_indiv_12 = cos2_indiv['PC1'] + cos2_indiv['PC2']"
   ]
  },
  {
   "cell_type": "code",
   "execution_count": 105,
   "id": "4f7f5da8-200a-41ee-8e21-2cca97e978d7",
   "metadata": {},
   "outputs": [
    {
     "data": {
      "image/png": "[encoded data removed]",
      "text/plain": [
       "<Figure size 600x600 with 2 Axes>"
      ]
     },
     "metadata": {},
     "output_type": "display_data"
    }
   ],
   "source": [
    "import seaborn as sns\n",
    "import cmasher as cmr\n",
    "\n",
    "# Représentation des individus suivant les deux premières composantes\n",
    "fig, ax = plt.subplots(figsize=(6,6))\n",
    "plt.axhline(y=0, color='black', linewidth=1)\n",
    "plt.axvline(x=0, color='black', linewidth=1)\n",
    "sns.scatterplot(x='PC1', y='PC2', data=features_trans, size=cos2_indiv_12)\n",
    "ax.set_xlabel('PC1 ('+ str(round(pca.explained_variance_ratio_[0]*100,2)) + ' \\%)')\n",
    "ax.set_ylabel('PC2 ('+ str(round(pca.explained_variance_ratio_[1]*100,2)) + ' \\%)')\n",
    "plt.xlim(-5,5)\n",
    "plt.ylim(-5,5)\n",
    "\n",
    "#deuxième repère pour les vecteurs\n",
    "ax2 = fig.add_axes(ax.get_position(), frame_on=False)\n",
    "ax2.xaxis.tick_top()\n",
    "ax2.yaxis.tick_right()\n",
    "ax2.xaxis.set_label_position('top') \n",
    "ax2.yaxis.set_label_position('right') \n",
    "ax2.set_xlabel('Variables initiales selon PC1', color='darkorange')\n",
    "ax2.set_ylabel('Variables initiales selon PC2', color='darkorange')\n",
    "ax2.tick_params(axis='both', labelcolor='darkorange')\n",
    "ax2.set_xlim(-1.1, 1.1)\n",
    "ax2.set_ylim(-1.1, 1.1)\n",
    "ax2.set_xticks([-1, -0.5, 0, 0.5, 1])\n",
    "ax2.set_yticks([-1, -0.5, 0, 0.5, 1])\n",
    "\n",
    "# Représentation des vecteurs\n",
    "for i in range(saturations.shape[0]):\n",
    "    x = saturations.iloc[i,0] # coord de la var i selon PC1\n",
    "    y = saturations.iloc[i,1] # coord de la var i selon PC2\n",
    "    feature = saturations.index[i] # nom de la var i\n",
    "    \n",
    "    ax2.arrow(0,0,  #départ flèche\n",
    "         x,y,  #fin flèche\n",
    "         head_width=0.025,\n",
    "         head_length=0.025,\n",
    "         length_includes_head=True,\n",
    "              color='darkorange'\n",
    "        )\n",
    "    if feature!='Poids':\n",
    "        if x>0:\n",
    "            plt.text(x+0.05, y+0.05, feature)\n",
    "        else:\n",
    "            plt.text(x-0.15, y+0.05, feature)\n",
    "    else :\n",
    "        plt.text(x+0.05,y-0.05, feature)\n",
    "    \n",
    "\n",
    "\n",
    "# Titre\n",
    "plt.title(\"Biplot : athlètes et disciplines suivant les deux premières composantes de l'ACP\")\n",
    "ax.legend(title='Cos2', bbox_to_anchor=[1.35,1])\n",
    "\n",
    "# Grille\n",
    "ax.grid(visible=True)\n",
    "ax.set_axisbelow(True)  # grille en arrière-plan\n",
    "plt.show()"
   ]
  },
  {
   "cell_type": "code",
   "execution_count": 108,
   "id": "995a556d-b821-4c36-8017-62bd60428279",
   "metadata": {},
   "outputs": [
    {
     "data": {
      "image/png": "[encoded data removed]",
      "text/plain": [
       "<Figure size 600x600 with 2 Axes>"
      ]
     },
     "metadata": {},
     "output_type": "display_data"
    }
   ],
   "source": [
    "cos2_indiv_13 = cos2_indiv['PC1'] + cos2_indiv['PC3']\n",
    "\n",
    "# Représentation des individus suivant PC1 et PC3\n",
    "fig, ax = plt.subplots(figsize=(6,6))\n",
    "plt.axhline(y=0, color='black', linewidth=1)\n",
    "plt.axvline(x=0, color='black', linewidth=1)\n",
    "sns.scatterplot(x='PC1', y='PC3', data=features_trans, size=cos2_indiv_13)\n",
    "ax.set_xlabel('PC1 ('+ str(round(pca.explained_variance_ratio_[0]*100,2)) + ' \\%)')\n",
    "ax.set_ylabel('PC3 ('+ str(round(pca.explained_variance_ratio_[2]*100,2)) + ' \\%)')\n",
    "plt.xlim(-5,5)\n",
    "plt.ylim(-5,5)\n",
    "\n",
    "#deuxième repère pour les vecteurs\n",
    "ax2 = fig.add_axes(ax.get_position(), frame_on=False)\n",
    "ax2.xaxis.tick_top()\n",
    "ax2.yaxis.tick_right()\n",
    "ax2.xaxis.set_label_position('top') \n",
    "ax2.yaxis.set_label_position('right') \n",
    "ax2.set_xlabel('Variables initiales selon PC1', color='darkorange')\n",
    "ax2.set_ylabel('Variables initiales selon PC3', color='darkorange')\n",
    "ax2.tick_params(axis='both', labelcolor='darkorange')\n",
    "ax2.set_xlim(-1,1)\n",
    "ax2.set_ylim(-1,1)\n",
    "ax2.set_xticks([-1, -0.5, 0, 0.5, 1])\n",
    "ax2.set_yticks([-1, -0.5, 0, 0.5, 1])\n",
    "\n",
    "# Représentation des vecteurs\n",
    "for i in range(saturations.shape[0]):\n",
    "    x = saturations.iloc[i,0] # coord de la var i selon PC1\n",
    "    y = saturations.iloc[i,2] # coord de la var i selon PC3\n",
    "    feature = saturations.index[i] # nom de la var i\n",
    "    \n",
    "    ax2.arrow(0,0,  #départ flèche\n",
    "         x,y,  #fin flèche\n",
    "         head_width=0.025,\n",
    "         head_length=0.025,\n",
    "         length_includes_head=True,\n",
    "         color='darkorange'\n",
    "        )\n",
    "    if feature!='Poids':\n",
    "        if x>0:\n",
    "            plt.text(x+0.05, y+0.05, feature)\n",
    "        else:\n",
    "            plt.text(x-0.15, y+0.05, feature)\n",
    "    else :\n",
    "        plt.text(x+0.05,y-0.05, feature)\n",
    "    \n",
    "\n",
    "\n",
    "# Titre\n",
    "plt.title(\"Biplot : athlètes et disciplines suivant les deux premières composantes de l'ACP\")\n",
    "ax.legend(title='Cos2', bbox_to_anchor=[1.35,1])\n",
    "\n",
    "# Grille\n",
    "ax.grid(visible=True)\n",
    "ax.set_axisbelow(True)  # grille en arrière-plan\n",
    "plt.show()"
   ]
  },
  {
   "cell_type": "markdown",
   "id": "b4b394bb-b05c-43ac-bab3-fc77fd6ae17b",
   "metadata": {},
   "source": [
    "Dans les deux plans, les individus les mieux représentés sont de manière générale ceux qui prennent une grande valeur sur l'une des composantes principales."
   ]
  },
  {
   "cell_type": "markdown",
   "id": "f3ac494b-f7ee-4252-8e59-4d41134e8750",
   "metadata": {},
   "source": [
    "***\n",
    "### 3. Représentation des individus suivant les trois premières composantes principales."
   ]
  },
  {
   "cell_type": "code",
   "execution_count": 171,
   "id": "c02792d6-03b7-4c30-81c3-eb5f5e6bdad7",
   "metadata": {},
   "outputs": [
    {
     "data": {
      "image/png": "[encoded data removed]",
      "text/plain": [
       "<Figure size 3000x1000 with 2 Axes>"
      ]
     },
     "metadata": {},
     "output_type": "display_data"
    }
   ],
   "source": [
    "# Création de la figure\n",
    "fig = plt.figure(figsize = (30, 10))\n",
    "ax = plt.axes(projection =\"3d\")\n",
    "\n",
    "cmap='plasma_r'\n",
    "\n",
    "# Création du graphique\n",
    "sctt = ax.scatter3D(features_trans['PC1'], features_trans['PC2'], features_trans['PC3'], c=df_decathlon['Classement'], cmap=cmap)\n",
    "\n",
    "# Titres et labels\n",
    "ax.set_xlabel('PC1 ('+ str(round(pca.explained_variance_ratio_[0]*100,2)) + ' \\%)')\n",
    "ax.set_ylabel('PC2 ('+ str(round(pca.explained_variance_ratio_[1]*100,2)) + ' \\%)')\n",
    "ax.set_zlabel('PC3 ('+ str(round(pca.explained_variance_ratio_[2]*100,2)) + ' \\%)')\n",
    "ax.set_title(\"Répartition des décathlètes suivant les trois premières composantes principales\")\n",
    "\n",
    "#legende des couleurs\n",
    "sm = plt.cm.ScalarMappable(cmap=cmap)\n",
    "sm.set_clim(vmin=np.min(df_decathlon['Classement']), vmax=np.max(df_decathlon['Classement']))\n",
    "plt.colorbar(sm, label=\"Classement\", shrink=0.3, orientation='vertical',pad=0.1, anchor = (0.5,0.5), ax=ax)\n",
    "\n",
    "# Ajustement de l'affichage\n",
    "ax.tick_params(axis='x', pad=-0.5)\n",
    "ax.tick_params(axis='y', pad=-0.5)\n",
    "ax.tick_params(axis='z', pad=-0.5)\n",
    "plt.subplots_adjust(left=0.6, right=0.77, top=1, bottom=0.2)\n",
    "plt.show()"
   ]
  },
  {
   "cell_type": "markdown",
   "id": "dda33aa9-8cb1-45ae-a0fd-07bc4ef35f25",
   "metadata": {},
   "source": [
    "Difficile de distinguer la forme du nuage de points. Utilisons une version interactive."
   ]
  },
  {
   "cell_type": "code",
   "execution_count": 197,
   "id": "4de81437-118c-458a-8f71-b34c640596fc",
   "metadata": {},
   "outputs": [
    {
     "data": {
      "application/vnd.plotly.v1+json": {
       "config": {
        "plotlyServerURL": "https://plot.ly"
       },
       "data": [
        {
         "customdata": [
          [
           1
          ],
          [
           2
          ],
          [
           3
          ],
          [
           4
          ],
          [
           5
          ],
          [
           6
          ],
          [
           7
          ],
          [
           8
          ],
          [
           9
          ],
          [
           10
          ],
          [
           11
          ],
          [
           12
          ],
          [
           13
          ],
          [
           14
          ],
          [
           15
          ],
          [
           16
          ],
          [
           17
          ],
          [
           18
          ],
          [
           19
          ],
          [
           20
          ],
          [
           21
          ],
          [
           22
          ],
          [
           23
          ],
          [
           24
          ],
          [
           25
          ],
          [
           26
          ],
          [
           27
          ],
          [
           28
          ],
          [
           1
          ],
          [
           2
          ],
          [
           3
          ],
          [
           4
          ],
          [
           5
          ],
          [
           6
          ],
          [
           7
          ],
          [
           8
          ],
          [
           9
          ],
          [
           10
          ],
          [
           11
          ],
          [
           12
          ],
          [
           13
          ]
         ],
         "hovertemplate": "PC1: %{x}<br>PC2: %{y}<br>PC3: %{z}<br>Classement: %{customdata[0]}",
         "legendgroup": "",
         "marker": {
          "color": [
           1,
           2,
           3,
           4,
           5,
           6,
           7,
           8,
           9,
           10,
           11,
           12,
           13,
           14,
           15,
           16,
           17,
           18,
           19,
           20,
           21,
           22,
           23,
           24,
           25,
           26,
           27,
           28,
           1,
           2,
           3,
           4,
           5,
           6,
           7,
           8,
           9,
           10,
           11,
           12,
           13
          ],
          "coloraxis": "coloraxis",
          "line": {
           "color": "DarkSlateGrey",
           "width": 1
          },
          "size": 4,
          "symbol": "circle"
         },
         "mode": "markers",
         "name": "",
         "scene": "scene",
         "showlegend": false,
         "type": "scatter3d",
         "x": [
          4.038448501440573,
          3.9193651572282437,
          4.619987275044797,
          2.233460565597991,
          2.1683964454064113,
          0.9251321828939059,
          0.8890378515129784,
          0.295305666684478,
          1.9063343676771454,
          0.08107865939162942,
          0.5396770277453606,
          0.11443098460735641,
          0.002145202767672047,
          0.8703105697204893,
          0.349155137967606,
          0.38011399869195067,
          -0.48451421253907384,
          -0.4344666908063908,
          -0.2486840243749546,
          -1.0694291042768465,
          -0.6819530591482398,
          -0.2898892077226588,
          -1.5418130555854401,
          -2.4085099795498843,
          -1.9943687268308936,
          -0.9578298132608625,
          -2.5622595907281065,
          -2.8570882682085674,
          0.7916277168898314,
          1.2349905629220708,
          1.3582149357579714,
          -0.6095150831060859,
          -0.5859683377610889,
          0.35688953048866295,
          0.2717747810244437,
          0.5875161890560562,
          -1.9953592980248827,
          -1.5460764616766902,
          -1.3416527267523084,
          -2.344973805585529,
          -3.9790418645791163
         ],
         "y": [
          1.365826063543916,
          0.8369613626042209,
          0.039995228896391496,
          1.041766200640479,
          -1.8032002503336786,
          1.1686517960988645,
          -0.6184252155359983,
          -1.545616672424498,
          -0.08580429179835722,
          -1.3534570993179038,
          0.7707509896984432,
          -0.03985060808518293,
          0.36033768480716843,
          1.0593255199809724,
          -1.5586499915345178,
          -0.7724473429555482,
          -1.060661180774507,
          -0.32614689717434525,
          -3.0816768301042625,
          2.0931821790900274,
          0.5356143979880417,
          -1.196716105891089,
          0.42716772524722113,
          -1.5829296932831138,
          -0.29418239624888776,
          2.066385536498951,
          0.24546870508040308,
          3.7978450499269516,
          0.771611195522031,
          0.5745780653384881,
          0.4840209011288781,
          -0.8746285288353004,
          2.1309542225518667,
          -1.6849566658296495,
          -1.0937755774971314,
          0.23072991176248814,
          0.5609959815764227,
          0.4883830109411536,
          -0.3109115706853019,
          -1.9663750005490737,
          0.19986018993496946
         ],
         "z": [
          -0.2899565042805583,
          0.23117532047924155,
          -0.041585798001407145,
          -1.8643620154049103,
          0.8510173287098262,
          -1.4774802908286278,
          -0.8982953479746314,
          1.3552601285624246,
          -0.7571859708850761,
          0.8224866222303855,
          1.347619776927306,
          0.740403981031984,
          -1.56969348876593,
          -1.6434290616482594,
          0.2825354036678726,
          -0.3709431418933845,
          -1.228337849930248,
          -1.0697978122896217,
          1.0548427374521971,
          -0.9999839028901096,
          2.2091259997098383,
          -1.3061025895306302,
          0.5140859441357362,
          -1.5023461069170063,
          -0.3427836936914627,
          2.5865525262672295,
          -0.41914064446675536,
          0.0305611909206921,
          0.8268411940267678,
          2.141246966371257,
          1.9562579868953938,
          0.8899406618587965,
          -1.2251567968083628,
          0.7665531449197939,
          -1.2827673831291246,
          -0.41763298230379126,
          -0.7299466010889837,
          0.8407858519275007,
          -0.00036833754766780964,
          -1.3364815492289601,
          1.3264851034112655
         ]
        }
       ],
       "layout": {
        "autosize": false,
        "coloraxis": {
         "colorbar": {
          "title": {
           "text": "Classement"
          }
         },
         "colorscale": [
          [
           0,
           "#f0f921"
          ],
          [
           0.1111111111111111,
           "#fdca26"
          ],
          [
           0.2222222222222222,
           "#fb9f3a"
          ],
          [
           0.3333333333333333,
           "#ed7953"
          ],
          [
           0.4444444444444444,
           "#d8576b"
          ],
          [
           0.5555555555555556,
           "#bd3786"
          ],
          [
           0.6666666666666666,
           "#9c179e"
          ],
          [
           0.7777777777777778,
           "#7201a8"
          ],
          [
           0.8888888888888888,
           "#46039f"
          ],
          [
           1,
           "#0d0887"
          ]
         ]
        },
        "height": 800,
        "legend": {
         "tracegroupgap": 0
        },
        "margin": {
         "t": 60
        },
        "scene": {
         "aspectmode": "auto",
         "aspectratio": {
          "x": 1.3416228397341263,
          "y": 1.0733448544987958,
          "z": 0.6944328842073515
         },
         "camera": {
          "eye": {
           "x": 1.8,
           "y": -1.25,
           "z": 0.8
          }
         },
         "domain": {
          "x": [
           0,
           1
          ],
          "y": [
           0,
           1
          ]
         },
         "xaxis": {
          "title": {
           "text": "PC1 (32.72 %)"
          },
          "type": "linear"
         },
         "yaxis": {
          "title": {
           "text": "PC2 (17.37 %)"
          },
          "type": "linear"
         },
         "zaxis": {
          "title": {
           "text": "PC3 (14.05 %)"
          },
          "type": "linear"
         }
        },
        "template": {
         "data": {
          "bar": [
           {
            "error_x": {
             "color": "#2a3f5f"
            },
            "error_y": {
             "color": "#2a3f5f"
            },
            "marker": {
             "line": {
              "color": "#E5ECF6",
              "width": 0.5
             },
             "pattern": {
              "fillmode": "overlay",
              "size": 10,
              "solidity": 0.2
             }
            },
            "type": "bar"
           }
          ],
          "barpolar": [
           {
            "marker": {
             "line": {
              "color": "#E5ECF6",
              "width": 0.5
             },
             "pattern": {
              "fillmode": "overlay",
              "size": 10,
              "solidity": 0.2
             }
            },
            "type": "barpolar"
           }
          ],
          "carpet": [
           {
            "aaxis": {
             "endlinecolor": "#2a3f5f",
             "gridcolor": "white",
             "linecolor": "white",
             "minorgridcolor": "white",
             "startlinecolor": "#2a3f5f"
            },
            "baxis": {
             "endlinecolor": "#2a3f5f",
             "gridcolor": "white",
             "linecolor": "white",
             "minorgridcolor": "white",
             "startlinecolor": "#2a3f5f"
            },
            "type": "carpet"
           }
          ],
          "choropleth": [
           {
            "colorbar": {
             "outlinewidth": 0,
             "ticks": ""
            },
            "type": "choropleth"
           }
          ],
          "contour": [
           {
            "colorbar": {
             "outlinewidth": 0,
             "ticks": ""
            },
            "colorscale": [
             [
              0,
              "#0d0887"
             ],
             [
              0.1111111111111111,
              "#46039f"
             ],
             [
              0.2222222222222222,
              "#7201a8"
             ],
             [
              0.3333333333333333,
              "#9c179e"
             ],
             [
              0.4444444444444444,
              "#bd3786"
             ],
             [
              0.5555555555555556,
              "#d8576b"
             ],
             [
              0.6666666666666666,
              "#ed7953"
             ],
             [
              0.7777777777777778,
              "#fb9f3a"
             ],
             [
              0.8888888888888888,
              "#fdca26"
             ],
             [
              1,
              "#f0f921"
             ]
            ],
            "type": "contour"
           }
          ],
          "contourcarpet": [
           {
            "colorbar": {
             "outlinewidth": 0,
             "ticks": ""
            },
            "type": "contourcarpet"
           }
          ],
          "heatmap": [
           {
            "colorbar": {
             "outlinewidth": 0,
             "ticks": ""
            },
            "colorscale": [
             [
              0,
              "#0d0887"
             ],
             [
              0.1111111111111111,
              "#46039f"
             ],
             [
              0.2222222222222222,
              "#7201a8"
             ],
             [
              0.3333333333333333,
              "#9c179e"
             ],
             [
              0.4444444444444444,
              "#bd3786"
             ],
             [
              0.5555555555555556,
              "#d8576b"
             ],
             [
              0.6666666666666666,
              "#ed7953"
             ],
             [
              0.7777777777777778,
              "#fb9f3a"
             ],
             [
              0.8888888888888888,
              "#fdca26"
             ],
             [
              1,
              "#f0f921"
             ]
            ],
            "type": "heatmap"
           }
          ],
          "heatmapgl": [
           {
            "colorbar": {
             "outlinewidth": 0,
             "ticks": ""
            },
            "colorscale": [
             [
              0,
              "#0d0887"
             ],
             [
              0.1111111111111111,
              "#46039f"
             ],
             [
              0.2222222222222222,
              "#7201a8"
             ],
             [
              0.3333333333333333,
              "#9c179e"
             ],
             [
              0.4444444444444444,
              "#bd3786"
             ],
             [
              0.5555555555555556,
              "#d8576b"
             ],
             [
              0.6666666666666666,
              "#ed7953"
             ],
             [
              0.7777777777777778,
              "#fb9f3a"
             ],
             [
              0.8888888888888888,
              "#fdca26"
             ],
             [
              1,
              "#f0f921"
             ]
            ],
            "type": "heatmapgl"
           }
          ],
          "histogram": [
           {
            "marker": {
             "pattern": {
              "fillmode": "overlay",
              "size": 10,
              "solidity": 0.2
             }
            },
            "type": "histogram"
           }
          ],
          "histogram2d": [
           {
            "colorbar": {
             "outlinewidth": 0,
             "ticks": ""
            },
            "colorscale": [
             [
              0,
              "#0d0887"
             ],
             [
              0.1111111111111111,
              "#46039f"
             ],
             [
              0.2222222222222222,
              "#7201a8"
             ],
             [
              0.3333333333333333,
              "#9c179e"
             ],
             [
              0.4444444444444444,
              "#bd3786"
             ],
             [
              0.5555555555555556,
              "#d8576b"
             ],
             [
              0.6666666666666666,
              "#ed7953"
             ],
             [
              0.7777777777777778,
              "#fb9f3a"
             ],
             [
              0.8888888888888888,
              "#fdca26"
             ],
             [
              1,
              "#f0f921"
             ]
            ],
            "type": "histogram2d"
           }
          ],
          "histogram2dcontour": [
           {
            "colorbar": {
             "outlinewidth": 0,
             "ticks": ""
            },
            "colorscale": [
             [
              0,
              "#0d0887"
             ],
             [
              0.1111111111111111,
              "#46039f"
             ],
             [
              0.2222222222222222,
              "#7201a8"
             ],
             [
              0.3333333333333333,
              "#9c179e"
             ],
             [
              0.4444444444444444,
              "#bd3786"
             ],
             [
              0.5555555555555556,
              "#d8576b"
             ],
             [
              0.6666666666666666,
              "#ed7953"
             ],
             [
              0.7777777777777778,
              "#fb9f3a"
             ],
             [
              0.8888888888888888,
              "#fdca26"
             ],
             [
              1,
              "#f0f921"
             ]
            ],
            "type": "histogram2dcontour"
           }
          ],
          "mesh3d": [
           {
            "colorbar": {
             "outlinewidth": 0,
             "ticks": ""
            },
            "type": "mesh3d"
           }
          ],
          "parcoords": [
           {
            "line": {
             "colorbar": {
              "outlinewidth": 0,
              "ticks": ""
             }
            },
            "type": "parcoords"
           }
          ],
          "pie": [
           {
            "automargin": true,
            "type": "pie"
           }
          ],
          "scatter": [
           {
            "fillpattern": {
             "fillmode": "overlay",
             "size": 10,
             "solidity": 0.2
            },
            "type": "scatter"
           }
          ],
          "scatter3d": [
           {
            "line": {
             "colorbar": {
              "outlinewidth": 0,
              "ticks": ""
             }
            },
            "marker": {
             "colorbar": {
              "outlinewidth": 0,
              "ticks": ""
             }
            },
            "type": "scatter3d"
           }
          ],
          "scattercarpet": [
           {
            "marker": {
             "colorbar": {
              "outlinewidth": 0,
              "ticks": ""
             }
            },
            "type": "scattercarpet"
           }
          ],
          "scattergeo": [
           {
            "marker": {
             "colorbar": {
              "outlinewidth": 0,
              "ticks": ""
             }
            },
            "type": "scattergeo"
           }
          ],
          "scattergl": [
           {
            "marker": {
             "colorbar": {
              "outlinewidth": 0,
              "ticks": ""
             }
            },
            "type": "scattergl"
           }
          ],
          "scattermapbox": [
           {
            "marker": {
             "colorbar": {
              "outlinewidth": 0,
              "ticks": ""
             }
            },
            "type": "scattermapbox"
           }
          ],
          "scatterpolar": [
           {
            "marker": {
             "colorbar": {
              "outlinewidth": 0,
              "ticks": ""
             }
            },
            "type": "scatterpolar"
           }
          ],
          "scatterpolargl": [
           {
            "marker": {
             "colorbar": {
              "outlinewidth": 0,
              "ticks": ""
             }
            },
            "type": "scatterpolargl"
           }
          ],
          "scatterternary": [
           {
            "marker": {
             "colorbar": {
              "outlinewidth": 0,
              "ticks": ""
             }
            },
            "type": "scatterternary"
           }
          ],
          "surface": [
           {
            "colorbar": {
             "outlinewidth": 0,
             "ticks": ""
            },
            "colorscale": [
             [
              0,
              "#0d0887"
             ],
             [
              0.1111111111111111,
              "#46039f"
             ],
             [
              0.2222222222222222,
              "#7201a8"
             ],
             [
              0.3333333333333333,
              "#9c179e"
             ],
             [
              0.4444444444444444,
              "#bd3786"
             ],
             [
              0.5555555555555556,
              "#d8576b"
             ],
             [
              0.6666666666666666,
              "#ed7953"
             ],
             [
              0.7777777777777778,
              "#fb9f3a"
             ],
             [
              0.8888888888888888,
              "#fdca26"
             ],
             [
              1,
              "#f0f921"
             ]
            ],
            "type": "surface"
           }
          ],
          "table": [
           {
            "cells": {
             "fill": {
              "color": "#EBF0F8"
             },
             "line": {
              "color": "white"
             }
            },
            "header": {
             "fill": {
              "color": "#C8D4E3"
             },
             "line": {
              "color": "white"
             }
            },
            "type": "table"
           }
          ]
         },
         "layout": {
          "annotationdefaults": {
           "arrowcolor": "#2a3f5f",
           "arrowhead": 0,
           "arrowwidth": 1
          },
          "autotypenumbers": "strict",
          "coloraxis": {
           "colorbar": {
            "outlinewidth": 0,
            "ticks": ""
           }
          },
          "colorscale": {
           "diverging": [
            [
             0,
             "#8e0152"
            ],
            [
             0.1,
             "#c51b7d"
            ],
            [
             0.2,
             "#de77ae"
            ],
            [
             0.3,
             "#f1b6da"
            ],
            [
             0.4,
             "#fde0ef"
            ],
            [
             0.5,
             "#f7f7f7"
            ],
            [
             0.6,
             "#e6f5d0"
            ],
            [
             0.7,
             "#b8e186"
            ],
            [
             0.8,
             "#7fbc41"
            ],
            [
             0.9,
             "#4d9221"
            ],
            [
             1,
             "#276419"
            ]
           ],
           "sequential": [
            [
             0,
             "#0d0887"
            ],
            [
             0.1111111111111111,
             "#46039f"
            ],
            [
             0.2222222222222222,
             "#7201a8"
            ],
            [
             0.3333333333333333,
             "#9c179e"
            ],
            [
             0.4444444444444444,
             "#bd3786"
            ],
            [
             0.5555555555555556,
             "#d8576b"
            ],
            [
             0.6666666666666666,
             "#ed7953"
            ],
            [
             0.7777777777777778,
             "#fb9f3a"
            ],
            [
             0.8888888888888888,
             "#fdca26"
            ],
            [
             1,
             "#f0f921"
            ]
           ],
           "sequentialminus": [
            [
             0,
             "#0d0887"
            ],
            [
             0.1111111111111111,
             "#46039f"
            ],
            [
             0.2222222222222222,
             "#7201a8"
            ],
            [
             0.3333333333333333,
             "#9c179e"
            ],
            [
             0.4444444444444444,
             "#bd3786"
            ],
            [
             0.5555555555555556,
             "#d8576b"
            ],
            [
             0.6666666666666666,
             "#ed7953"
            ],
            [
             0.7777777777777778,
             "#fb9f3a"
            ],
            [
             0.8888888888888888,
             "#fdca26"
            ],
            [
             1,
             "#f0f921"
            ]
           ]
          },
          "colorway": [
           "#636efa",
           "#EF553B",
           "#00cc96",
           "#ab63fa",
           "#FFA15A",
           "#19d3f3",
           "#FF6692",
           "#B6E880",
           "#FF97FF",
           "#FECB52"
          ],
          "font": {
           "color": "#2a3f5f"
          },
          "geo": {
           "bgcolor": "white",
           "lakecolor": "white",
           "landcolor": "#E5ECF6",
           "showlakes": true,
           "showland": true,
           "subunitcolor": "white"
          },
          "hoverlabel": {
           "align": "left"
          },
          "hovermode": "closest",
          "mapbox": {
           "style": "light"
          },
          "paper_bgcolor": "white",
          "plot_bgcolor": "#E5ECF6",
          "polar": {
           "angularaxis": {
            "gridcolor": "white",
            "linecolor": "white",
            "ticks": ""
           },
           "bgcolor": "#E5ECF6",
           "radialaxis": {
            "gridcolor": "white",
            "linecolor": "white",
            "ticks": ""
           }
          },
          "scene": {
           "xaxis": {
            "backgroundcolor": "#E5ECF6",
            "gridcolor": "white",
            "gridwidth": 2,
            "linecolor": "white",
            "showbackground": true,
            "ticks": "",
            "zerolinecolor": "white"
           },
           "yaxis": {
            "backgroundcolor": "#E5ECF6",
            "gridcolor": "white",
            "gridwidth": 2,
            "linecolor": "white",
            "showbackground": true,
            "ticks": "",
            "zerolinecolor": "white"
           },
           "zaxis": {
            "backgroundcolor": "#E5ECF6",
            "gridcolor": "white",
            "gridwidth": 2,
            "linecolor": "white",
            "showbackground": true,
            "ticks": "",
            "zerolinecolor": "white"
           }
          },
          "shapedefaults": {
           "line": {
            "color": "#2a3f5f"
           }
          },
          "ternary": {
           "aaxis": {
            "gridcolor": "white",
            "linecolor": "white",
            "ticks": ""
           },
           "baxis": {
            "gridcolor": "white",
            "linecolor": "white",
            "ticks": ""
           },
           "bgcolor": "#E5ECF6",
           "caxis": {
            "gridcolor": "white",
            "linecolor": "white",
            "ticks": ""
           }
          },
          "title": {
           "x": 0.05
          },
          "xaxis": {
           "automargin": true,
           "gridcolor": "white",
           "linecolor": "white",
           "ticks": "",
           "title": {
            "standoff": 15
           },
           "zerolinecolor": "white",
           "zerolinewidth": 2
          },
          "yaxis": {
           "automargin": true,
           "gridcolor": "white",
           "linecolor": "white",
           "ticks": "",
           "title": {
            "standoff": 15
           },
           "zerolinecolor": "white",
           "zerolinewidth": 2
          }
         }
        },
        "title": {
         "text": "Répartition des décathlètes suivant les trois premières composantes principales",
         "y": 0.9
        },
        "width": 1000
       }
      },
      "text/html": [
       "<div>                            <div id=\"a8bc258b-651d-4e89-89dd-f1fce4af1956\" class=\"plotly-graph-div\" style=\"height:800px; width:1000px;\"></div>            <script type=\"text/javascript\">                require([\"plotly\"], function(Plotly) {                    window.PLOTLYENV=window.PLOTLYENV || {};                                    if (document.getElementById(\"a8bc258b-651d-4e89-89dd-f1fce4af1956\")) {                    Plotly.newPlot(                        \"a8bc258b-651d-4e89-89dd-f1fce4af1956\",                        [{\"hovertemplate\":\"PC1: %{x}<br>PC2: %{y}<br>PC3: %{z}<br>Classement: %{customdata[0]}\",\"legendgroup\":\"\",\"marker\":{\"color\":[1,2,3,4,5,6,7,8,9,10,11,12,13,14,15,16,17,18,19,20,21,22,23,24,25,26,27,28,1,2,3,4,5,6,7,8,9,10,11,12,13],\"coloraxis\":\"coloraxis\",\"symbol\":\"circle\",\"line\":{\"color\":\"DarkSlateGrey\",\"width\":1},\"size\":4},\"mode\":\"markers\",\"name\":\"\",\"scene\":\"scene\",\"showlegend\":false,\"x\":[4.038448501440573,3.9193651572282437,4.619987275044797,2.233460565597991,2.1683964454064113,0.9251321828939059,0.8890378515129784,0.295305666684478,1.9063343676771454,0.08107865939162942,0.5396770277453606,0.11443098460735641,0.002145202767672047,0.8703105697204893,0.349155137967606,0.38011399869195067,-0.48451421253907384,-0.4344666908063908,-0.2486840243749546,-1.0694291042768465,-0.6819530591482398,-0.2898892077226588,-1.5418130555854401,-2.4085099795498843,-1.9943687268308936,-0.9578298132608625,-2.5622595907281065,-2.8570882682085674,0.7916277168898314,1.2349905629220708,1.3582149357579714,-0.6095150831060859,-0.5859683377610889,0.35688953048866295,0.2717747810244437,0.5875161890560562,-1.9953592980248827,-1.5460764616766902,-1.3416527267523084,-2.344973805585529,-3.9790418645791163],\"y\":[1.365826063543916,0.8369613626042209,0.039995228896391496,1.041766200640479,-1.8032002503336786,1.1686517960988645,-0.6184252155359983,-1.545616672424498,-0.08580429179835722,-1.3534570993179038,0.7707509896984432,-0.03985060808518293,0.36033768480716843,1.0593255199809724,-1.5586499915345178,-0.7724473429555482,-1.060661180774507,-0.32614689717434525,-3.0816768301042625,2.0931821790900274,0.5356143979880417,-1.196716105891089,0.42716772524722113,-1.5829296932831138,-0.29418239624888776,2.066385536498951,0.24546870508040308,3.7978450499269516,0.771611195522031,0.5745780653384881,0.4840209011288781,-0.8746285288353004,2.1309542225518667,-1.6849566658296495,-1.0937755774971314,0.23072991176248814,0.5609959815764227,0.4883830109411536,-0.3109115706853019,-1.9663750005490737,0.19986018993496946],\"z\":[-0.2899565042805583,0.23117532047924155,-0.041585798001407145,-1.8643620154049103,0.8510173287098262,-1.4774802908286278,-0.8982953479746314,1.3552601285624246,-0.7571859708850761,0.8224866222303855,1.347619776927306,0.740403981031984,-1.56969348876593,-1.6434290616482594,0.2825354036678726,-0.3709431418933845,-1.228337849930248,-1.0697978122896217,1.0548427374521971,-0.9999839028901096,2.2091259997098383,-1.3061025895306302,0.5140859441357362,-1.5023461069170063,-0.3427836936914627,2.5865525262672295,-0.41914064446675536,0.0305611909206921,0.8268411940267678,2.141246966371257,1.9562579868953938,0.8899406618587965,-1.2251567968083628,0.7665531449197939,-1.2827673831291246,-0.41763298230379126,-0.7299466010889837,0.8407858519275007,-0.00036833754766780964,-1.3364815492289601,1.3264851034112655],\"type\":\"scatter3d\",\"customdata\":[[1],[2],[3],[4],[5],[6],[7],[8],[9],[10],[11],[12],[13],[14],[15],[16],[17],[18],[19],[20],[21],[22],[23],[24],[25],[26],[27],[28],[1],[2],[3],[4],[5],[6],[7],[8],[9],[10],[11],[12],[13]]}],                        {\"template\":{\"data\":{\"histogram2dcontour\":[{\"type\":\"histogram2dcontour\",\"colorbar\":{\"outlinewidth\":0,\"ticks\":\"\"},\"colorscale\":[[0.0,\"#0d0887\"],[0.1111111111111111,\"#46039f\"],[0.2222222222222222,\"#7201a8\"],[0.3333333333333333,\"#9c179e\"],[0.4444444444444444,\"#bd3786\"],[0.5555555555555556,\"#d8576b\"],[0.6666666666666666,\"#ed7953\"],[0.7777777777777778,\"#fb9f3a\"],[0.8888888888888888,\"#fdca26\"],[1.0,\"#f0f921\"]]}],\"choropleth\":[{\"type\":\"choropleth\",\"colorbar\":{\"outlinewidth\":0,\"ticks\":\"\"}}],\"histogram2d\":[{\"type\":\"histogram2d\",\"colorbar\":{\"outlinewidth\":0,\"ticks\":\"\"},\"colorscale\":[[0.0,\"#0d0887\"],[0.1111111111111111,\"#46039f\"],[0.2222222222222222,\"#7201a8\"],[0.3333333333333333,\"#9c179e\"],[0.4444444444444444,\"#bd3786\"],[0.5555555555555556,\"#d8576b\"],[0.6666666666666666,\"#ed7953\"],[0.7777777777777778,\"#fb9f3a\"],[0.8888888888888888,\"#fdca26\"],[1.0,\"#f0f921\"]]}],\"heatmap\":[{\"type\":\"heatmap\",\"colorbar\":{\"outlinewidth\":0,\"ticks\":\"\"},\"colorscale\":[[0.0,\"#0d0887\"],[0.1111111111111111,\"#46039f\"],[0.2222222222222222,\"#7201a8\"],[0.3333333333333333,\"#9c179e\"],[0.4444444444444444,\"#bd3786\"],[0.5555555555555556,\"#d8576b\"],[0.6666666666666666,\"#ed7953\"],[0.7777777777777778,\"#fb9f3a\"],[0.8888888888888888,\"#fdca26\"],[1.0,\"#f0f921\"]]}],\"heatmapgl\":[{\"type\":\"heatmapgl\",\"colorbar\":{\"outlinewidth\":0,\"ticks\":\"\"},\"colorscale\":[[0.0,\"#0d0887\"],[0.1111111111111111,\"#46039f\"],[0.2222222222222222,\"#7201a8\"],[0.3333333333333333,\"#9c179e\"],[0.4444444444444444,\"#bd3786\"],[0.5555555555555556,\"#d8576b\"],[0.6666666666666666,\"#ed7953\"],[0.7777777777777778,\"#fb9f3a\"],[0.8888888888888888,\"#fdca26\"],[1.0,\"#f0f921\"]]}],\"contourcarpet\":[{\"type\":\"contourcarpet\",\"colorbar\":{\"outlinewidth\":0,\"ticks\":\"\"}}],\"contour\":[{\"type\":\"contour\",\"colorbar\":{\"outlinewidth\":0,\"ticks\":\"\"},\"colorscale\":[[0.0,\"#0d0887\"],[0.1111111111111111,\"#46039f\"],[0.2222222222222222,\"#7201a8\"],[0.3333333333333333,\"#9c179e\"],[0.4444444444444444,\"#bd3786\"],[0.5555555555555556,\"#d8576b\"],[0.6666666666666666,\"#ed7953\"],[0.7777777777777778,\"#fb9f3a\"],[0.8888888888888888,\"#fdca26\"],[1.0,\"#f0f921\"]]}],\"surface\":[{\"type\":\"surface\",\"colorbar\":{\"outlinewidth\":0,\"ticks\":\"\"},\"colorscale\":[[0.0,\"#0d0887\"],[0.1111111111111111,\"#46039f\"],[0.2222222222222222,\"#7201a8\"],[0.3333333333333333,\"#9c179e\"],[0.4444444444444444,\"#bd3786\"],[0.5555555555555556,\"#d8576b\"],[0.6666666666666666,\"#ed7953\"],[0.7777777777777778,\"#fb9f3a\"],[0.8888888888888888,\"#fdca26\"],[1.0,\"#f0f921\"]]}],\"mesh3d\":[{\"type\":\"mesh3d\",\"colorbar\":{\"outlinewidth\":0,\"ticks\":\"\"}}],\"scatter\":[{\"fillpattern\":{\"fillmode\":\"overlay\",\"size\":10,\"solidity\":0.2},\"type\":\"scatter\"}],\"parcoords\":[{\"type\":\"parcoords\",\"line\":{\"colorbar\":{\"outlinewidth\":0,\"ticks\":\"\"}}}],\"scatterpolargl\":[{\"type\":\"scatterpolargl\",\"marker\":{\"colorbar\":{\"outlinewidth\":0,\"ticks\":\"\"}}}],\"bar\":[{\"error_x\":{\"color\":\"#2a3f5f\"},\"error_y\":{\"color\":\"#2a3f5f\"},\"marker\":{\"line\":{\"color\":\"#E5ECF6\",\"width\":0.5},\"pattern\":{\"fillmode\":\"overlay\",\"size\":10,\"solidity\":0.2}},\"type\":\"bar\"}],\"scattergeo\":[{\"type\":\"scattergeo\",\"marker\":{\"colorbar\":{\"outlinewidth\":0,\"ticks\":\"\"}}}],\"scatterpolar\":[{\"type\":\"scatterpolar\",\"marker\":{\"colorbar\":{\"outlinewidth\":0,\"ticks\":\"\"}}}],\"histogram\":[{\"marker\":{\"pattern\":{\"fillmode\":\"overlay\",\"size\":10,\"solidity\":0.2}},\"type\":\"histogram\"}],\"scattergl\":[{\"type\":\"scattergl\",\"marker\":{\"colorbar\":{\"outlinewidth\":0,\"ticks\":\"\"}}}],\"scatter3d\":[{\"type\":\"scatter3d\",\"line\":{\"colorbar\":{\"outlinewidth\":0,\"ticks\":\"\"}},\"marker\":{\"colorbar\":{\"outlinewidth\":0,\"ticks\":\"\"}}}],\"scattermapbox\":[{\"type\":\"scattermapbox\",\"marker\":{\"colorbar\":{\"outlinewidth\":0,\"ticks\":\"\"}}}],\"scatterternary\":[{\"type\":\"scatterternary\",\"marker\":{\"colorbar\":{\"outlinewidth\":0,\"ticks\":\"\"}}}],\"scattercarpet\":[{\"type\":\"scattercarpet\",\"marker\":{\"colorbar\":{\"outlinewidth\":0,\"ticks\":\"\"}}}],\"carpet\":[{\"aaxis\":{\"endlinecolor\":\"#2a3f5f\",\"gridcolor\":\"white\",\"linecolor\":\"white\",\"minorgridcolor\":\"white\",\"startlinecolor\":\"#2a3f5f\"},\"baxis\":{\"endlinecolor\":\"#2a3f5f\",\"gridcolor\":\"white\",\"linecolor\":\"white\",\"minorgridcolor\":\"white\",\"startlinecolor\":\"#2a3f5f\"},\"type\":\"carpet\"}],\"table\":[{\"cells\":{\"fill\":{\"color\":\"#EBF0F8\"},\"line\":{\"color\":\"white\"}},\"header\":{\"fill\":{\"color\":\"#C8D4E3\"},\"line\":{\"color\":\"white\"}},\"type\":\"table\"}],\"barpolar\":[{\"marker\":{\"line\":{\"color\":\"#E5ECF6\",\"width\":0.5},\"pattern\":{\"fillmode\":\"overlay\",\"size\":10,\"solidity\":0.2}},\"type\":\"barpolar\"}],\"pie\":[{\"automargin\":true,\"type\":\"pie\"}]},\"layout\":{\"autotypenumbers\":\"strict\",\"colorway\":[\"#636efa\",\"#EF553B\",\"#00cc96\",\"#ab63fa\",\"#FFA15A\",\"#19d3f3\",\"#FF6692\",\"#B6E880\",\"#FF97FF\",\"#FECB52\"],\"font\":{\"color\":\"#2a3f5f\"},\"hovermode\":\"closest\",\"hoverlabel\":{\"align\":\"left\"},\"paper_bgcolor\":\"white\",\"plot_bgcolor\":\"#E5ECF6\",\"polar\":{\"bgcolor\":\"#E5ECF6\",\"angularaxis\":{\"gridcolor\":\"white\",\"linecolor\":\"white\",\"ticks\":\"\"},\"radialaxis\":{\"gridcolor\":\"white\",\"linecolor\":\"white\",\"ticks\":\"\"}},\"ternary\":{\"bgcolor\":\"#E5ECF6\",\"aaxis\":{\"gridcolor\":\"white\",\"linecolor\":\"white\",\"ticks\":\"\"},\"baxis\":{\"gridcolor\":\"white\",\"linecolor\":\"white\",\"ticks\":\"\"},\"caxis\":{\"gridcolor\":\"white\",\"linecolor\":\"white\",\"ticks\":\"\"}},\"coloraxis\":{\"colorbar\":{\"outlinewidth\":0,\"ticks\":\"\"}},\"colorscale\":{\"sequential\":[[0.0,\"#0d0887\"],[0.1111111111111111,\"#46039f\"],[0.2222222222222222,\"#7201a8\"],[0.3333333333333333,\"#9c179e\"],[0.4444444444444444,\"#bd3786\"],[0.5555555555555556,\"#d8576b\"],[0.6666666666666666,\"#ed7953\"],[0.7777777777777778,\"#fb9f3a\"],[0.8888888888888888,\"#fdca26\"],[1.0,\"#f0f921\"]],\"sequentialminus\":[[0.0,\"#0d0887\"],[0.1111111111111111,\"#46039f\"],[0.2222222222222222,\"#7201a8\"],[0.3333333333333333,\"#9c179e\"],[0.4444444444444444,\"#bd3786\"],[0.5555555555555556,\"#d8576b\"],[0.6666666666666666,\"#ed7953\"],[0.7777777777777778,\"#fb9f3a\"],[0.8888888888888888,\"#fdca26\"],[1.0,\"#f0f921\"]],\"diverging\":[[0,\"#8e0152\"],[0.1,\"#c51b7d\"],[0.2,\"#de77ae\"],[0.3,\"#f1b6da\"],[0.4,\"#fde0ef\"],[0.5,\"#f7f7f7\"],[0.6,\"#e6f5d0\"],[0.7,\"#b8e186\"],[0.8,\"#7fbc41\"],[0.9,\"#4d9221\"],[1,\"#276419\"]]},\"xaxis\":{\"gridcolor\":\"white\",\"linecolor\":\"white\",\"ticks\":\"\",\"title\":{\"standoff\":15},\"zerolinecolor\":\"white\",\"automargin\":true,\"zerolinewidth\":2},\"yaxis\":{\"gridcolor\":\"white\",\"linecolor\":\"white\",\"ticks\":\"\",\"title\":{\"standoff\":15},\"zerolinecolor\":\"white\",\"automargin\":true,\"zerolinewidth\":2},\"scene\":{\"xaxis\":{\"backgroundcolor\":\"#E5ECF6\",\"gridcolor\":\"white\",\"linecolor\":\"white\",\"showbackground\":true,\"ticks\":\"\",\"zerolinecolor\":\"white\",\"gridwidth\":2},\"yaxis\":{\"backgroundcolor\":\"#E5ECF6\",\"gridcolor\":\"white\",\"linecolor\":\"white\",\"showbackground\":true,\"ticks\":\"\",\"zerolinecolor\":\"white\",\"gridwidth\":2},\"zaxis\":{\"backgroundcolor\":\"#E5ECF6\",\"gridcolor\":\"white\",\"linecolor\":\"white\",\"showbackground\":true,\"ticks\":\"\",\"zerolinecolor\":\"white\",\"gridwidth\":2}},\"shapedefaults\":{\"line\":{\"color\":\"#2a3f5f\"}},\"annotationdefaults\":{\"arrowcolor\":\"#2a3f5f\",\"arrowhead\":0,\"arrowwidth\":1},\"geo\":{\"bgcolor\":\"white\",\"landcolor\":\"#E5ECF6\",\"subunitcolor\":\"white\",\"showland\":true,\"showlakes\":true,\"lakecolor\":\"white\"},\"title\":{\"x\":0.05},\"mapbox\":{\"style\":\"light\"}}},\"scene\":{\"domain\":{\"x\":[0.0,1.0],\"y\":[0.0,1.0]},\"xaxis\":{\"title\":{\"text\":\"PC1 (32.72 %)\"}},\"yaxis\":{\"title\":{\"text\":\"PC2 (17.37 %)\"}},\"zaxis\":{\"title\":{\"text\":\"PC3 (14.05 %)\"}},\"camera\":{\"eye\":{\"x\":1.8,\"y\":-1.25,\"z\":0.8}}},\"coloraxis\":{\"colorbar\":{\"title\":{\"text\":\"Classement\"}},\"colorscale\":[[0.0,\"#f0f921\"],[0.1111111111111111,\"#fdca26\"],[0.2222222222222222,\"#fb9f3a\"],[0.3333333333333333,\"#ed7953\"],[0.4444444444444444,\"#d8576b\"],[0.5555555555555556,\"#bd3786\"],[0.6666666666666666,\"#9c179e\"],[0.7777777777777778,\"#7201a8\"],[0.8888888888888888,\"#46039f\"],[1.0,\"#0d0887\"]]},\"legend\":{\"tracegroupgap\":0},\"margin\":{\"t\":60},\"title\":{\"text\":\"R\\u00e9partition des d\\u00e9cathl\\u00e8tes suivant les trois premi\\u00e8res composantes principales\",\"y\":0.9},\"width\":1000,\"height\":800,\"autosize\":false},                        {\"responsive\": true}                    ).then(function(){\n",
       "                            \n",
       "var gd = document.getElementById('a8bc258b-651d-4e89-89dd-f1fce4af1956');\n",
       "var x = new MutationObserver(function (mutations, observer) {{\n",
       "        var display = window.getComputedStyle(gd).display;\n",
       "        if (!display || display === 'none') {{\n",
       "            console.log([gd, 'removed!']);\n",
       "            Plotly.purge(gd);\n",
       "            observer.disconnect();\n",
       "        }}\n",
       "}});\n",
       "\n",
       "// Listen for the removal of the full notebook cells\n",
       "var notebookContainer = gd.closest('#notebook-container');\n",
       "if (notebookContainer) {{\n",
       "    x.observe(notebookContainer, {childList: true});\n",
       "}}\n",
       "\n",
       "// Listen for the clearing of the current output cell\n",
       "var outputEl = gd.closest('.output');\n",
       "if (outputEl) {{\n",
       "    x.observe(outputEl, {childList: true});\n",
       "}}\n",
       "\n",
       "                        })                };                });            </script>        </div>"
      ]
     },
     "metadata": {},
     "output_type": "display_data"
    }
   ],
   "source": [
    "import plotly.express as px\n",
    "\n",
    "\n",
    "# Création du graphe\n",
    "fig = px.scatter_3d(features_trans, x='PC1', y='PC2', z='PC3',\n",
    "                   color=df_decathlon['Classement'], color_continuous_scale='plasma_r')\n",
    "\n",
    "# Changement fenêtre de survol\n",
    "fig.update_traces(hovertemplate=\"PC1: %{x}<br>PC2: %{y}<br>PC3: %{z}<br>Classement: %{customdata[0]}\",\n",
    "                  customdata=df_decathlon[['Classement']].values)\n",
    "\n",
    "# Ajout d'une bordure aux points\n",
    "fig.update_traces(marker=dict(\n",
    "                            size=4,\n",
    "                            line=dict(width=1,\n",
    "                                      color='DarkSlateGrey')\n",
    "                            )\n",
    "                 )\n",
    "\n",
    "# titres, labels et vue d'origine\n",
    "fig.update_layout(width=1000,\n",
    "                  height=800,\n",
    "                  scene = dict(\n",
    "                            xaxis_title='PC1 ('+ str(round(pca.explained_variance_ratio_[0]*100,2)) + ' %)',\n",
    "                            yaxis_title='PC2 ('+ str(round(pca.explained_variance_ratio_[1]*100,2)) + ' %)',\n",
    "                            zaxis_title='PC3 ('+ str(round(pca.explained_variance_ratio_[2]*100,2)) + ' %)'),\n",
    "                  title_text=\"Répartition des décathlètes suivant les trois premières composantes principales\",\n",
    "                  title_y=0.9,\n",
    "                  scene_camera=dict(\n",
    "                      eye=dict(x=1.8, y=-1.25, z=0.8)),\n",
    "                  autosize=False,\n",
    "                  coloraxis_colorbar_title =\"Classement\",\n",
    "                  )\n",
    "\n",
    "#Affichage\n",
    "fig.show()"
   ]
  },
  {
   "cell_type": "code",
   "execution_count": null,
   "id": "8c5e7706-47c8-4dc4-b542-594265b1e202",
   "metadata": {},
   "outputs": [],
   "source": []
  }
 ],
 "metadata": {
  "kernelspec": {
   "display_name": "Python 3 (ipykernel)",
   "language": "python",
   "name": "python3"
  },
  "language_info": {
   "codemirror_mode": {
    "name": "ipython",
    "version": 3
   },
   "file_extension": ".py",
   "mimetype": "text/x-python",
   "name": "python",
   "nbconvert_exporter": "python",
   "pygments_lexer": "ipython3",
   "version": "3.10.9"
  }
 },
 "nbformat": 4,
 "nbformat_minor": 5
}
